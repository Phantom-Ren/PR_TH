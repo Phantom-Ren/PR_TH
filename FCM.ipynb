{
  "nbformat": 4,
  "nbformat_minor": 0,
  "metadata": {
    "colab": {
      "name": "FCM",
      "provenance": [],
      "collapsed_sections": [],
      "mount_file_id": "1U06zkwUuY3Lvi2kGs42ZWSC_B9i2Nujc",
      "authorship_tag": "ABX9TyMYy2jSwAIk49gB1kPL9w1V",
      "include_colab_link": true
    },
    "kernelspec": {
      "name": "python3",
      "display_name": "Python 3"
    }
  },
  "cells": [
    {
      "cell_type": "markdown",
      "metadata": {
        "id": "view-in-github",
        "colab_type": "text"
      },
      "source": [
        "<a href=\"https://colab.research.google.com/github/Phantom-Ren/PR_TH/blob/master/FCM.ipynb\" target=\"_parent\"><img src=\"https://colab.research.google.com/assets/colab-badge.svg\" alt=\"Open In Colab\"/></a>"
      ]
    },
    {
      "cell_type": "markdown",
      "metadata": {
        "id": "Qh1LipO-Rfnr",
        "colab_type": "text"
      },
      "source": [
        "<center>\n",
        "\n",
        "# 模式识别·第七次作业·模糊聚类（Fussy C Means）\n",
        "\n",
        "#### 纪泽西 17375338\n",
        "\n",
        "#### Last Modified:26th,April,2020\n",
        "\n",
        "</center>\n",
        "\n",
        "<table align=\"center\">\n",
        "  <td align=\"center\"><a target=\"_blank\" href=\"https://colab.research.google.com/github/Phantom-Ren/PR_TH/blob/master/FCM.ipynb\"> \n",
        "        <img src=\"http://introtodeeplearning.com/images/colab/colab.png?v2.0\"  style=\"padding-bottom:5px;\" /><br>Run in Google Colab</a></td>\n",
        "</table>\n"
      ]
    },
    {
      "cell_type": "markdown",
      "metadata": {
        "id": "c2Uxa_o7h6Gu",
        "colab_type": "text"
      },
      "source": [
        "## Part1: 导入库文件及数据集\n",
        "\n",
        "#### 如需在其他环境运行需改变数据集所在路径"
      ]
    },
    {
      "cell_type": "code",
      "metadata": {
        "id": "efncgxIJihrR",
        "colab_type": "code",
        "colab": {
          "base_uri": "https://localhost:8080/",
          "height": 252
        },
        "outputId": "3920f763-54d9-43a5-8e82-02340242f05a"
      },
      "source": [
        " !pip install -U scikit-fuzzy"
      ],
      "execution_count": 3,
      "outputs": [
        {
          "output_type": "stream",
          "text": [
            "Collecting scikit-fuzzy\n",
            "\u001b[?25l  Downloading https://files.pythonhosted.org/packages/6c/f0/5eb5dbe0fd8dfe7d4651a8f4e591a196623a22b9e5339101e559695b4f6c/scikit-fuzzy-0.4.2.tar.gz (993kB)\n",
            "\u001b[K     |████████████████████████████████| 1.0MB 157kB/s \n",
            "\u001b[?25hRequirement already satisfied, skipping upgrade: numpy>=1.6.0 in /usr/local/lib/python3.6/dist-packages (from scikit-fuzzy) (1.18.3)\n",
            "Requirement already satisfied, skipping upgrade: scipy>=0.9.0 in /usr/local/lib/python3.6/dist-packages (from scikit-fuzzy) (1.4.1)\n",
            "Requirement already satisfied, skipping upgrade: networkx>=1.9.0 in /usr/local/lib/python3.6/dist-packages (from scikit-fuzzy) (2.4)\n",
            "Requirement already satisfied, skipping upgrade: decorator>=4.3.0 in /usr/local/lib/python3.6/dist-packages (from networkx>=1.9.0->scikit-fuzzy) (4.4.2)\n",
            "Building wheels for collected packages: scikit-fuzzy\n",
            "  Building wheel for scikit-fuzzy (setup.py) ... \u001b[?25l\u001b[?25hdone\n",
            "  Created wheel for scikit-fuzzy: filename=scikit_fuzzy-0.4.2-cp36-none-any.whl size=894070 sha256=e15ba9b4e39e9dfbc5cce9735fa101b6c76bdf502ba8a21f3e5e56915783fc82\n",
            "  Stored in directory: /root/.cache/pip/wheels/b9/4e/77/da79b16f64ef1738d95486e2731eea09d73e90a72465096600\n",
            "Successfully built scikit-fuzzy\n",
            "Installing collected packages: scikit-fuzzy\n",
            "Successfully installed scikit-fuzzy-0.4.2\n"
          ],
          "name": "stdout"
        }
      ]
    },
    {
      "cell_type": "code",
      "metadata": {
        "id": "qoesIwOVReii",
        "colab_type": "code",
        "outputId": "00ac06ed-08bc-45c8-88e0-974a6686ce51",
        "colab": {
          "base_uri": "https://localhost:8080/",
          "height": 67
        }
      },
      "source": [
        "%tensorflow_version 2.x\n",
        "import tensorflow as tf\n",
        "import sklearn\n",
        "from sklearn.metrics import confusion_matrix\n",
        "from skfuzzy.cluster import cmeans\n",
        "from sklearn.metrics import accuracy_score\n",
        "from sklearn.model_selection import cross_val_score\n",
        "\n",
        "import glob\n",
        "import numpy as np\n",
        "import matplotlib.pyplot as plt\n",
        "import seaborn as sns\n",
        "sns.set()\n",
        "from time import *\n",
        "\n",
        "import os\n",
        "import scipy.io as sio\n",
        "\n",
        "%cd /content/drive/My Drive/Pattern Recognition/Dataset/cell_dataset"
      ],
      "execution_count": 6,
      "outputs": [
        {
          "output_type": "stream",
          "text": [
            "/usr/local/lib/python3.6/dist-packages/statsmodels/tools/_testing.py:19: FutureWarning: pandas.util.testing is deprecated. Use the functions in the public API at pandas.testing instead.\n",
            "  import pandas.util.testing as tm\n"
          ],
          "name": "stderr"
        },
        {
          "output_type": "stream",
          "text": [
            "/content/drive/My Drive/Pattern Recognition/Dataset/cell_dataset\n"
          ],
          "name": "stdout"
        }
      ]
    },
    {
      "cell_type": "code",
      "metadata": {
        "id": "OaiNnnMV5lxq",
        "colab_type": "code",
        "colab": {}
      },
      "source": [
        "x_train = np.load(\"x_train.npy\")\n",
        "y_train = np.load(\"y_train.npy\")\n",
        "x_test = np.load(\"x_test.npy\")\n",
        "y_test = np.load(\"y_test.npy\")"
      ],
      "execution_count": 0,
      "outputs": []
    },
    {
      "cell_type": "code",
      "metadata": {
        "id": "ymxT80_K69VK",
        "colab_type": "code",
        "outputId": "75d5842e-63df-495e-a356-cd777116f1f9",
        "colab": {
          "base_uri": "https://localhost:8080/",
          "height": 67
        }
      },
      "source": [
        "print(x_train.shape,x_test.shape)\n",
        "print(np.unique(y_test))\n",
        "print(np.bincount(y_test.astype(int)))"
      ],
      "execution_count": 8,
      "outputs": [
        {
          "output_type": "stream",
          "text": [
            "(14536, 51, 51) (6229, 51, 51)\n",
            "[0. 1. 2.]\n",
            "[ 683 2439 3107]\n"
          ],
          "name": "stdout"
        }
      ]
    },
    {
      "cell_type": "markdown",
      "metadata": {
        "id": "o3kA6PCpiW3t",
        "colab_type": "text"
      },
      "source": [
        "## Part2:数据预处理"
      ]
    },
    {
      "cell_type": "code",
      "metadata": {
        "id": "iICgLZqY_jfN",
        "colab_type": "code",
        "outputId": "6c60e256-38c9-4c49-91bc-df1d327f3408",
        "colab": {
          "base_uri": "https://localhost:8080/",
          "height": 34
        }
      },
      "source": [
        "x_train = x_train.reshape(x_train.shape[0],-1)\n",
        "x_test = x_test.reshape(x_test.shape[0],-1)\n",
        "x_train = x_train/255.0\n",
        "x_test = x_test/255.0\n",
        "print(x_train.shape,x_test.shape)"
      ],
      "execution_count": 22,
      "outputs": [
        {
          "output_type": "stream",
          "text": [
            "(14536, 2601) (6229, 2601)\n"
          ],
          "name": "stdout"
        }
      ]
    },
    {
      "cell_type": "markdown",
      "metadata": {
        "id": "FuNXbVy7jZd-",
        "colab_type": "text"
      },
      "source": [
        "## Part3:模型建立\n"
      ]
    },
    {
      "cell_type": "markdown",
      "metadata": {
        "id": "3xdDqGmgj8zE",
        "colab_type": "text"
      },
      "source": [
        "由于skfuzzy模块内提到对于高维特征数据，cmeans聚类可能存在问题，故使用[第五次作业：细胞聚类](https://colab.research.google.com/github/Phantom-Ren/PR_TH/blob/master/细胞聚类.ipynb)中使用的AutoEncoder进行特征降维。"
      ]
    },
    {
      "cell_type": "code",
      "metadata": {
        "id": "LBLIJ3HqfRa3",
        "colab_type": "code",
        "colab": {}
      },
      "source": [
        "encoding_dim = 10"
      ],
      "execution_count": 0,
      "outputs": []
    },
    {
      "cell_type": "code",
      "metadata": {
        "id": "IBdr-xU5w2XK",
        "colab_type": "code",
        "colab": {}
      },
      "source": [
        "encoder = tf.keras.models.Sequential([\n",
        "  tf.keras.layers.Dense(128,activation='relu') ,                                   \n",
        "  tf.keras.layers.Dense(32,activation='relu') ,\n",
        "  tf.keras.layers.Dense(8,activation='relu') ,\n",
        "  tf.keras.layers.Dense(encoding_dim) \n",
        "])\n",
        "\n",
        "decoder = tf.keras.models.Sequential([\n",
        "  tf.keras.layers.Dense(8,activation='relu') ,                                   \n",
        "  tf.keras.layers.Dense(32,activation='relu') ,\n",
        "  tf.keras.layers.Dense(128,activation='relu') ,\n",
        "  tf.keras.layers.Dense(2601,activation='sigmoid') \n",
        "])\n",
        "\n",
        "AE = tf.keras.models.Sequential([\n",
        "  encoder,                               \n",
        "  decoder\n",
        "])"
      ],
      "execution_count": 0,
      "outputs": []
    },
    {
      "cell_type": "code",
      "metadata": {
        "id": "13MOK8nJxz2K",
        "colab_type": "code",
        "colab": {}
      },
      "source": [
        "AE.compile(optimizer='adam',loss='binary_crossentropy')"
      ],
      "execution_count": 0,
      "outputs": []
    },
    {
      "cell_type": "code",
      "metadata": {
        "id": "3M-WJ_kIlxy4",
        "colab_type": "code",
        "colab": {
          "base_uri": "https://localhost:8080/",
          "height": 370
        },
        "outputId": "ebb91fe0-bfbe-4ae5-fa5d-578a9cf51096"
      },
      "source": [
        "AE.fit(x_train,x_train,epochs=10,batch_size=256)"
      ],
      "execution_count": 26,
      "outputs": [
        {
          "output_type": "stream",
          "text": [
            "Epoch 1/10\n",
            "57/57 [==============================] - 2s 37ms/step - loss: 0.2308\n",
            "Epoch 2/10\n",
            "57/57 [==============================] - 2s 37ms/step - loss: 0.0672\n",
            "Epoch 3/10\n",
            "57/57 [==============================] - 2s 37ms/step - loss: 0.0623\n",
            "Epoch 4/10\n",
            "57/57 [==============================] - 2s 37ms/step - loss: 0.0592\n",
            "Epoch 5/10\n",
            "57/57 [==============================] - 2s 37ms/step - loss: 0.0581\n",
            "Epoch 6/10\n",
            "57/57 [==============================] - 2s 37ms/step - loss: 0.0577\n",
            "Epoch 7/10\n",
            "57/57 [==============================] - 2s 37ms/step - loss: 0.0576\n",
            "Epoch 8/10\n",
            "57/57 [==============================] - 2s 37ms/step - loss: 0.0574\n",
            "Epoch 9/10\n",
            "57/57 [==============================] - 2s 37ms/step - loss: 0.0573\n",
            "Epoch 10/10\n",
            "57/57 [==============================] - 2s 37ms/step - loss: 0.0572\n"
          ],
          "name": "stdout"
        },
        {
          "output_type": "execute_result",
          "data": {
            "text/plain": [
              "<tensorflow.python.keras.callbacks.History at 0x7f00e4de0588>"
            ]
          },
          "metadata": {
            "tags": []
          },
          "execution_count": 26
        }
      ]
    },
    {
      "cell_type": "code",
      "metadata": {
        "id": "Du5dmrdeyj_E",
        "colab_type": "code",
        "colab": {}
      },
      "source": [
        "x_encoded = encoder.predict(x_train)\n",
        "x_encoded_test = encoder.predict(x_test)"
      ],
      "execution_count": 0,
      "outputs": []
    },
    {
      "cell_type": "code",
      "metadata": {
        "id": "7A11E9cwnnDB",
        "colab_type": "code",
        "colab": {
          "base_uri": "https://localhost:8080/",
          "height": 34
        },
        "outputId": "62a686a3-b24f-4332-e54e-71272e6835fa"
      },
      "source": [
        "x_encoded_t = x_encoded.T\n",
        "print(x_encoded_t.shape)"
      ],
      "execution_count": 30,
      "outputs": [
        {
          "output_type": "stream",
          "text": [
            "(10, 14536)\n"
          ],
          "name": "stdout"
        }
      ]
    },
    {
      "cell_type": "code",
      "metadata": {
        "id": "JL0md-VAjgx6",
        "colab_type": "code",
        "colab": {
          "base_uri": "https://localhost:8080/",
          "height": 50
        },
        "outputId": "b74f5dcf-d916-4b45-f0ac-5729903f4a0f"
      },
      "source": [
        "st=time()\n",
        "center, u, u0, d, jm, p, fpc = cmeans(x_encoded_t, m=2, c=8, error=0.0005, maxiter=1000)\n",
        "et=time()\n",
        "print('Time Usage:',et-st,'s')\n",
        "print('Numbers of iterations used:',p)\n",
        "for i in u:\n",
        "  yhat = np.argmax(u, axis=0)"
      ],
      "execution_count": 41,
      "outputs": [
        {
          "output_type": "stream",
          "text": [
            "Time Usage: 9.911698341369629 s\n",
            "Numbers of iterations used: 410\n"
          ],
          "name": "stdout"
        }
      ]
    },
    {
      "cell_type": "code",
      "metadata": {
        "id": "dGx0YhSTrGab",
        "colab_type": "code",
        "colab": {
          "base_uri": "https://localhost:8080/",
          "height": 302
        },
        "outputId": "8a350381-ee1b-48dc-f0c6-3f581ce7d20d"
      },
      "source": [
        "print(center)\n",
        "print(center.shape)"
      ],
      "execution_count": 50,
      "outputs": [
        {
          "output_type": "stream",
          "text": [
            "[[ -3.44933402  -8.44556914 -16.94252588  -8.74556024 -12.61217008\n",
            "   -9.7781175   18.60453291   2.95457345   3.22953149   5.69484494]\n",
            " [-11.97403419 -16.07650986 -26.56396647 -16.34790619 -21.81834829\n",
            "  -15.61480001  34.48161701   8.90122248  11.26525733  12.4596491 ]\n",
            " [ -7.22867202 -12.76481299 -23.26152398 -12.80788411 -18.18223393\n",
            "  -13.88773779  27.39076737   5.79463356   6.88977848   9.47686693]\n",
            " [ -0.72018174  -3.36455579  -8.15082003  -4.31916584  -5.82211945\n",
            "   -4.75698858   9.04330793   1.32119156   0.68767281   2.14246547]\n",
            " [-23.36955657 -21.53172434 -25.71895429 -23.30417817 -25.17116461\n",
            "  -11.51322674  46.47580771  14.77245746  22.20161965  14.57876323]\n",
            " [-29.09174015 -26.21911058 -19.85356267 -29.59542209 -25.20324848\n",
            "   -3.53020116  53.2928569   16.38369228  28.97699993  11.33743856]\n",
            " [-24.79542182 -22.26765841 -15.34363889 -25.22701977 -20.6935394\n",
            "   -1.61246474  44.78221591  13.69816692  24.88078417   8.79516102]\n",
            " [-17.60714073 -18.62241444 -27.38277968 -19.41323712 -23.98275131\n",
            "  -14.91679002  40.47605938  12.07882916  16.45713245  14.44150938]]\n",
            "(8, 10)\n"
          ],
          "name": "stdout"
        }
      ]
    },
    {
      "cell_type": "code",
      "metadata": {
        "id": "HxpJYFs5nAss",
        "colab_type": "code",
        "colab": {}
      },
      "source": [
        "from sklearn.metrics import fowlkes_mallows_score\n",
        "def draw_confusionmatrix(ytest, yhat):\n",
        "    plt.figure(figsize=(10,7))\n",
        "    cm = confusion_matrix(ytest, yhat)\n",
        "    ax = sns.heatmap(cm, annot=True, fmt=\"d\")\n",
        "    plt.ylabel('True label')\n",
        "    plt.xlabel('Predicted label')\n",
        "\n",
        "    acc = accuracy_score(ytest, yhat)\n",
        "    score_f=fowlkes_mallows_score(ytest,yhat)\n",
        "    print(f\"Sum Axis-1 as Classification accuracy: {acc}\")\n",
        "    print('F-Score:',score_f)"
      ],
      "execution_count": 0,
      "outputs": []
    },
    {
      "cell_type": "code",
      "metadata": {
        "id": "lM9ebYgvo5Mn",
        "colab_type": "code",
        "colab": {
          "base_uri": "https://localhost:8080/",
          "height": 482
        },
        "outputId": "496961e7-fc71-4845-a3ed-1bb8cebcbfef"
      },
      "source": [
        "draw_confusionmatrix(y_train,yhat)"
      ],
      "execution_count": 47,
      "outputs": [
        {
          "output_type": "stream",
          "text": [
            "Sum Axis-1 as Classification accuracy: 0.19888552559163455\n",
            "F-Score: 0.3129005083679034\n"
          ],
          "name": "stdout"
        },
        {
          "output_type": "display_data",
          "data": {
            "image/png": "[encoded data removed]",
            "text/plain": [
              "<Figure size 720x504 with 2 Axes>"
            ]
          },
          "metadata": {
            "tags": []
          }
        }
      ]
    },
    {
      "cell_type": "code",
      "metadata": {
        "colab_type": "code",
        "outputId": "66c598a9-50dd-4c41-f307-8eb73626d54e",
        "id": "ND7M4V6u8Dkv",
        "colab": {
          "base_uri": "https://localhost:8080/",
          "height": 482
        }
      },
      "source": [
        "temp=[2,2,2,2,1,0,1,1]\n",
        "y_hat1=np.zeros(14536)\n",
        "for i in range(0,14536):\n",
        "  y_hat1[i] = temp[yhat[i]]\n",
        "draw_confusionmatrix(y_train,y_hat1)  "
      ],
      "execution_count": 48,
      "outputs": [
        {
          "output_type": "stream",
          "text": [
            "Sum Axis-1 as Classification accuracy: 0.6651073197578427\n",
            "F-Score: 0.5610603391756352\n"
          ],
          "name": "stdout"
        },
        {
          "output_type": "display_data",
          "data": {
            "image/png": "[encoded data removed]",
            "text/plain": [
              "<Figure size 720x504 with 2 Axes>"
            ]
          },
          "metadata": {
            "tags": []
          }
        }
      ]
    },
    {
      "cell_type": "markdown",
      "metadata": {
        "id": "8Iqyw2dIqhZk",
        "colab_type": "text"
      },
      "source": [
        "将结果与Kmeans聚类相比，发现结果有较大提升（61%->67%）。但相对有监督学习方法，结果仍不尽如人意。"
      ]
    }
  ]
}
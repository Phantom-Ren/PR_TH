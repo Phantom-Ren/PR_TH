{
  "nbformat": 4,
  "nbformat_minor": 0,
  "metadata": {
    "colab": {
      "name": "KNN&Feature Extraction",
      "provenance": [],
      "collapsed_sections": [],
      "toc_visible": true,
      "mount_file_id": "1abPkSIr7WtJxjCVwPGUXgbbptQzWX0vC",
      "authorship_tag": "ABX9TyPuWXeOIOI2q7BOdx/HHA8I",
      "include_colab_link": true
    },
    "kernelspec": {
      "name": "python3",
      "display_name": "Python 3"
    }
  },
  "cells": [
    {
      "cell_type": "markdown",
      "metadata": {
        "id": "view-in-github",
        "colab_type": "text"
      },
      "source": [
        "<a href=\"https://colab.research.google.com/github/Phantom-Ren/PR_TH/blob/master/KNN%26Feature_Extraction.ipynb\" target=\"_parent\"><img src=\"https://colab.research.google.com/assets/colab-badge.svg\" alt=\"Open In Colab\"/></a>"
      ]
    },
    {
      "cell_type": "markdown",
      "metadata": {
        "id": "Qh1LipO-Rfnr",
        "colab_type": "text"
      },
      "source": [
        "<center>\n",
        "\n",
        "# 模式识别·第四次作业·KNN&Feature Extraction\n",
        "\n",
        "#### 纪泽西 17375338\n",
        "\n",
        "#### Last Modified:29th,March,2020\n",
        "\n",
        "</center>\n",
        "\n",
        "<table align=\"center\">\n",
        "  <td align=\"center\"><a target=\"_blank\" href=\"https://colab.research.google.com/github/Phantom-Ren/PR_TH/blob/master/KNN%26Feature_Extraction.ipynb\"> \n",
        "        <img src=\"http://introtodeeplearning.com/images/colab/colab.png?v2.0\"  style=\"padding-bottom:5px;\" /><br>Run in Google Colab</a></td>\n",
        "</table>\n"
      ]
    },
    {
      "cell_type": "markdown",
      "metadata": {
        "id": "c2Uxa_o7h6Gu",
        "colab_type": "text"
      },
      "source": [
        "## Part1: 导入库文件及数据集\n",
        "\n",
        "#### 如需在其他环境运行需改变数据集所在路径"
      ]
    },
    {
      "cell_type": "code",
      "metadata": {
        "id": "qoesIwOVReii",
        "colab_type": "code",
        "colab": {}
      },
      "source": [
        "%tensorflow_version 2.x\n",
        "import tensorflow as tf\n",
        "import sklearn\n",
        "from sklearn.metrics import confusion_matrix\n",
        "from sklearn.neighbors import KNeighborsClassifier\n",
        "from sklearn.metrics import accuracy_score\n",
        "\n",
        "import glob\n",
        "import numpy as np\n",
        "import matplotlib.pyplot as plt\n",
        "import seaborn as sns\n",
        "sns.set()\n",
        "from time import *\n",
        "\n",
        "import os\n",
        "import scipy.io as sio\n",
        "\n",
        "mnist = tf.keras.datasets.mnist\n",
        "(x_train, y_train), (x_test, y_test) = mnist.load_data()\n",
        "x_train, x_test = x_train / 255.0, x_test / 255.0"
      ],
      "execution_count": 0,
      "outputs": []
    },
    {
      "cell_type": "markdown",
      "metadata": {
        "id": "o3kA6PCpiW3t",
        "colab_type": "text"
      },
      "source": [
        "## Part2:数据预处理"
      ]
    },
    {
      "cell_type": "markdown",
      "metadata": {
        "id": "5qNUWuFSYfxW",
        "colab_type": "text"
      },
      "source": [
        "#### 可视化展现数据集特征"
      ]
    },
    {
      "cell_type": "code",
      "metadata": {
        "id": "EAOBYjBVakC9",
        "colab_type": "code",
        "outputId": "015f6e85-ee55-42b7-ed6d-80151eb81b76",
        "colab": {
          "base_uri": "https://localhost:8080/",
          "height": 492
        }
      },
      "source": [
        "print(x_train.shape,x_train.size,x_train.ndim)\n",
        "print(y_train.shape,y_train.size,y_train.ndim)\n",
        "print(x_test.shape,x_test.size,x_test.ndim)\n",
        "print(y_test.shape,y_test.size,y_test.ndim)\n",
        "for i in range(0,2):\n",
        "  plt.subplot(1,2,1)\n",
        "  plt.imshow(x_test[i,:,:])\n",
        "  plt.xlabel(y_test[i])\n",
        "  plt.subplot(1,2,2)\n",
        "  plt.imshow(x_train[i,:,:])\n",
        "  plt.xlabel(y_train[i])\n",
        "  plt.show()\n",
        "\n"
      ],
      "execution_count": 22,
      "outputs": [
        {
          "output_type": "stream",
          "text": [
            "(60000, 28, 28) 47040000 3\n",
            "(60000,) 60000 1\n",
            "(10000, 28, 28) 7840000 3\n",
            "(10000,) 10000 1\n"
          ],
          "name": "stdout"
        },
        {
          "output_type": "display_data",
          "data": {
            "image/png": "[encoded data removed]",
            "text/plain": [
              "<Figure size 432x288 with 2 Axes>"
            ]
          },
          "metadata": {
            "tags": []
          }
        },
        {
          "output_type": "display_data",
          "data": {
            "image/png": "[encoded data removed]",
            "text/plain": [
              "<Figure size 432x288 with 2 Axes>"
            ]
          },
          "metadata": {
            "tags": []
          }
        }
      ]
    },
    {
      "cell_type": "markdown",
      "metadata": {
        "id": "t4safgGzYnSu",
        "colab_type": "text"
      },
      "source": [
        "### 对数据标签（y_train/y_test)进行one-hot编码\n",
        "### 对图像数据（x_train/x_test）展开成二维数据"
      ]
    },
    {
      "cell_type": "code",
      "metadata": {
        "id": "sz-vyxjIafjf",
        "colab_type": "code",
        "colab": {
          "base_uri": "https://localhost:8080/",
          "height": 302
        },
        "outputId": "6459cf84-046b-4104-89f0-c9d3a494a8f4"
      },
      "source": [
        "y_train_onehot=tf.keras.utils.to_categorical(y_train)\n",
        "y_test_onehot=tf.keras.utils.to_categorical(y_test)\n",
        "x_train_flatten = np.reshape(x_train, (60000, 28 * 28), order=\"C\")\n",
        "x_test_flatten = np.reshape(x_test, (10000, 28 * 28), order=\"C\")\n",
        "plt.imshow(x_test_flatten[1,:].reshape([28,28]))\n",
        "print(y_train_onehot.shape)\n",
        "print(y_train[100],y_train_onehot[100,:])"
      ],
      "execution_count": 24,
      "outputs": [
        {
          "output_type": "stream",
          "text": [
            "(60000, 10)\n",
            "5 [0. 0. 0. 0. 0. 1. 0. 0. 0. 0.]\n"
          ],
          "name": "stdout"
        },
        {
          "output_type": "display_data",
          "data": {
            "image/png": "[encoded data removed]",
            "text/plain": [
              "<Figure size 432x288 with 1 Axes>"
            ]
          },
          "metadata": {
            "tags": []
          }
        }
      ]
    },
    {
      "cell_type": "markdown",
      "metadata": {
        "id": "FuNXbVy7jZd-",
        "colab_type": "text"
      },
      "source": [
        "## Part3:模型建立\n"
      ]
    },
    {
      "cell_type": "markdown",
      "metadata": {
        "id": "TXKIdSM7bKIM",
        "colab_type": "text"
      },
      "source": [
        "### 使用sklearn快速搭建KNN"
      ]
    },
    {
      "cell_type": "code",
      "metadata": {
        "id": "lm9mNBAzbVdc",
        "colab_type": "code",
        "colab": {
          "base_uri": "https://localhost:8080/",
          "height": 67
        },
        "outputId": "a60bb2b3-9ed1-4f6f-c250-bfd534aed032"
      },
      "source": [
        "model = KNeighborsClassifier()\n",
        "model"
      ],
      "execution_count": 4,
      "outputs": [
        {
          "output_type": "execute_result",
          "data": {
            "text/plain": [
              "KNeighborsClassifier(algorithm='auto', leaf_size=30, metric='minkowski',\n",
              "                     metric_params=None, n_jobs=None, n_neighbors=5, p=2,\n",
              "                     weights='uniform')"
            ]
          },
          "metadata": {
            "tags": []
          },
          "execution_count": 4
        }
      ]
    },
    {
      "cell_type": "code",
      "metadata": {
        "id": "VbsAVlQIeqbL",
        "colab_type": "code",
        "colab": {
          "base_uri": "https://localhost:8080/",
          "height": 34
        },
        "outputId": "a82cf3ba-cbf9-4f3a-f50d-0c3d7fba5cec"
      },
      "source": [
        "start_time=time()\n",
        "model.fit(x_train_flatten, y_train)\n",
        "end_time=time()\n",
        "print(\"amount time: {:.4f} s\".format(end_time-start_time))"
      ],
      "execution_count": 5,
      "outputs": [
        {
          "output_type": "stream",
          "text": [
            "amount time: 15.8820 s\n"
          ],
          "name": "stdout"
        }
      ]
    },
    {
      "cell_type": "code",
      "metadata": {
        "id": "eUVOKe1wx8C4",
        "colab_type": "code",
        "colab": {}
      },
      "source": [
        "# 本函数用于可视化结果并展示分类准确性\n",
        "def draw_confusionmatrix(ytest, yhat):\n",
        "    plt.figure(figsize=(10,7))\n",
        "    cm = confusion_matrix(ytest, yhat)\n",
        "    ax = sns.heatmap(cm, annot=True, fmt=\"d\")\n",
        "    plt.ylabel('True label')\n",
        "    plt.xlabel('Predicted label')\n",
        "\n",
        "    acc = accuracy_score(ytest, yhat)\n",
        "    print(f\"Sum Axis-1 as Classification accuracy: {acc}\")\n"
      ],
      "execution_count": 0,
      "outputs": []
    },
    {
      "cell_type": "code",
      "metadata": {
        "id": "wbPgPnTVf2G5",
        "colab_type": "code",
        "colab": {
          "base_uri": "https://localhost:8080/",
          "height": 482
        },
        "outputId": "760e1b1b-0727-4305-d5b1-ad4764df341a"
      },
      "source": [
        "start_time=time()\n",
        "yhat = model.predict(x_test_flatten)\n",
        "draw_confusionmatrix(y_test,yhat)\n",
        "end_time=time()\n",
        "print(\"amount time: {:.4f} s\".format(end_time-start_time))"
      ],
      "execution_count": 7,
      "outputs": [
        {
          "output_type": "stream",
          "text": [
            "Sum Axis-1 as Classification accuracy: 0.9688\n",
            "amount time: 983.3925 s\n"
          ],
          "name": "stdout"
        },
        {
          "output_type": "display_data",
          "data": {
            "image/png": "[encoded data removed]",
            "text/plain": [
              "<Figure size 720x504 with 2 Axes>"
            ]
          },
          "metadata": {
            "tags": []
          }
        }
      ]
    },
    {
      "cell_type": "markdown",
      "metadata": {
        "id": "x3GJIUgbhbYy",
        "colab_type": "text"
      },
      "source": [
        "### 自定义函数搭建简易K近邻算法（K=1）"
      ]
    },
    {
      "cell_type": "code",
      "metadata": {
        "id": "goPmmd9zh1Je",
        "colab_type": "code",
        "colab": {
          "base_uri": "https://localhost:8080/",
          "height": 1000
        },
        "outputId": "e6443190-f583-4a79-d2ed-ed45d5794b34"
      },
      "source": [
        "def knn(x_train, x_test,y_train,y_test):\n",
        "    true_num = 0\n",
        "    y_hat=np.zeros(10000)\n",
        "    for i in range(10000):\n",
        "        test_data = x_test[i]\n",
        "        train_data = x_train\n",
        "        min_index = np.argmin(np.sqrt(np.sum(np.square(test_data-train_data), axis=1)))\n",
        "        predict = y_train[min_index]\n",
        "        real_data = y_test[i]\n",
        "        y_hat[i] = predict\n",
        "        if predict == real_data:\n",
        "          true_num += 1\n",
        "          accuracy = true_num/(i+1) \n",
        "        if i<=2:\n",
        "          print(\"Case No.\",i,\"True_label:\",real_data,\"Pridiction:\",predict,\"Index Number:\",min_index)\n",
        "          plt.subplot(1,2,1)\n",
        "          plt.imshow(x_test[i,:].reshape([28,28]))\n",
        "          plt.subplot(1,2,2)\n",
        "          plt.imshow(x_train[min_index,:].reshape([28,28]))\n",
        "          plt.show()\n",
        "        if (i+1)%1000 == 0:\n",
        "          print(\"Accuracy for the first %d Thousand cases is: %.3f\"%((i+1)/1000, accuracy))  \n",
        "    draw_confusionmatrix(y_test,yhat)\n",
        "\n",
        "start_time=time()\n",
        "knn(x_train_flatten,x_test_flatten,y_train,y_test)\n",
        "end_time=time()\n",
        "print(\"amount time: {:.4f} s\".format(end_time-start_time))    "
      ],
      "execution_count": 18,
      "outputs": [
        {
          "output_type": "stream",
          "text": [
            "Case No. 0 True_label: 7 Pridiction: 7 Index Number: 53843\n"
          ],
          "name": "stdout"
        },
        {
          "output_type": "display_data",
          "data": {
            "image/png": "[encoded data removed]",
            "text/plain": [
              "<Figure size 432x288 with 2 Axes>"
            ]
          },
          "metadata": {
            "tags": []
          }
        },
        {
          "output_type": "stream",
          "text": [
            "Case No. 1 True_label: 2 Pridiction: 2 Index Number: 28882\n"
          ],
          "name": "stdout"
        },
        {
          "output_type": "display_data",
          "data": {
            "image/png": "[encoded data removed]",
            "text/plain": [
              "<Figure size 432x288 with 2 Axes>"
            ]
          },
          "metadata": {
            "tags": []
          }
        },
        {
          "output_type": "stream",
          "text": [
            "Case No. 2 True_label: 1 Pridiction: 1 Index Number: 58741\n"
          ],
          "name": "stdout"
        },
        {
          "output_type": "display_data",
          "data": {
            "image/png": "[encoded data removed]",
            "text/plain": [
              "<Figure size 432x288 with 2 Axes>"
            ]
          },
          "metadata": {
            "tags": []
          }
        },
        {
          "output_type": "stream",
          "text": [
            "Accuracy for the first 1 Thousand cases is: 0.962\n",
            "Accuracy for the first 2 Thousand cases is: 0.960\n",
            "Accuracy for the first 3 Thousand cases is: 0.957\n",
            "Accuracy for the first 4 Thousand cases is: 0.956\n",
            "Accuracy for the first 5 Thousand cases is: 0.956\n",
            "Accuracy for the first 6 Thousand cases is: 0.960\n",
            "Accuracy for the first 7 Thousand cases is: 0.963\n",
            "Accuracy for the first 8 Thousand cases is: 0.966\n",
            "Accuracy for the first 9 Thousand cases is: 0.969\n",
            "Accuracy for the first 10 Thousand cases is: 0.969\n",
            "Sum Axis-1 as Classification accuracy: 0.9688\n",
            "amount time: 1846.2798 s\n"
          ],
          "name": "stdout"
        },
        {
          "output_type": "display_data",
          "data": {
            "image/png": "[encoded data removed]",
            "text/plain": [
              "<Figure size 720x504 with 2 Axes>"
            ]
          },
          "metadata": {
            "tags": []
          }
        }
      ]
    },
    {
      "cell_type": "markdown",
      "metadata": {
        "id": "M6I_HIUM2GLF",
        "colab_type": "text"
      },
      "source": [
        "## 特征提取"
      ]
    },
    {
      "cell_type": "markdown",
      "metadata": {
        "id": "2lmuBEFp2Mle",
        "colab_type": "text"
      },
      "source": [
        "### 对于线性分类器（第一次作业）\n",
        "#### 使用CNN网络，对线性分类器进行补充"
      ]
    },
    {
      "cell_type": "markdown",
      "metadata": {
        "id": "rN6YrL6I3PqX",
        "colab_type": "text"
      },
      "source": [
        "##### 基本模型"
      ]
    },
    {
      "cell_type": "code",
      "metadata": {
        "id": "vGZsJfoxlC6S",
        "colab_type": "code",
        "outputId": "082334f8-7938-4629-c01d-10a7caf4424f",
        "colab": {
          "base_uri": "https://localhost:8080/",
          "height": 252
        }
      },
      "source": [
        "model_0 = tf.keras.Sequential([\n",
        "    tf.keras.layers.Flatten(input_shape=(28, 28)),\n",
        "    tf.keras.layers.Dense(128, activation='relu'),\n",
        "    tf.keras.layers.Dense(10)\n",
        "])\n",
        "model_0.summary()"
      ],
      "execution_count": 27,
      "outputs": [
        {
          "output_type": "stream",
          "text": [
            "Model: \"sequential_1\"\n",
            "_________________________________________________________________\n",
            "Layer (type)                 Output Shape              Param #   \n",
            "=================================================================\n",
            "flatten_1 (Flatten)          (None, 784)               0         \n",
            "_________________________________________________________________\n",
            "dense_2 (Dense)              (None, 128)               100480    \n",
            "_________________________________________________________________\n",
            "dense_3 (Dense)              (None, 10)                1290      \n",
            "=================================================================\n",
            "Total params: 101,770\n",
            "Trainable params: 101,770\n",
            "Non-trainable params: 0\n",
            "_________________________________________________________________\n"
          ],
          "name": "stdout"
        }
      ]
    },
    {
      "cell_type": "code",
      "metadata": {
        "id": "XWbuM4zqlVpy",
        "colab_type": "code",
        "colab": {
          "base_uri": "https://localhost:8080/",
          "height": 420
        },
        "outputId": "d2c287da-76ac-4ef1-9baa-3aa9eb392761"
      },
      "source": [
        "start_time=time()\n",
        "model_0.compile(optimizer='adam',\n",
        "              loss=tf.keras.losses.SparseCategoricalCrossentropy(from_logits=True),\n",
        "              metrics=['accuracy'])\n",
        "model_0.fit(x_train, y_train, epochs=10)\n",
        "test_loss, test_acc = model_0.evaluate(x_test,  y_test, verbose=2)\n",
        "print('\\nTest accuracy:', test_acc)\n",
        "end_time=time()\n",
        "print(\"amount time: {:.4f} s\".format(end_time-start_time))   "
      ],
      "execution_count": 28,
      "outputs": [
        {
          "output_type": "stream",
          "text": [
            "Epoch 1/10\n",
            "1875/1875 [==============================] - 3s 2ms/step - loss: 0.2557 - accuracy: 0.9274\n",
            "Epoch 2/10\n",
            "1875/1875 [==============================] - 3s 2ms/step - loss: 0.1134 - accuracy: 0.9669\n",
            "Epoch 3/10\n",
            "1875/1875 [==============================] - 3s 2ms/step - loss: 0.0781 - accuracy: 0.9766\n",
            "Epoch 4/10\n",
            "1875/1875 [==============================] - 3s 2ms/step - loss: 0.0570 - accuracy: 0.9827\n",
            "Epoch 5/10\n",
            "1875/1875 [==============================] - 3s 2ms/step - loss: 0.0466 - accuracy: 0.9852\n",
            "Epoch 6/10\n",
            "1875/1875 [==============================] - 4s 2ms/step - loss: 0.0357 - accuracy: 0.9890\n",
            "Epoch 7/10\n",
            "1875/1875 [==============================] - 3s 2ms/step - loss: 0.0280 - accuracy: 0.9916\n",
            "Epoch 8/10\n",
            "1875/1875 [==============================] - 3s 2ms/step - loss: 0.0243 - accuracy: 0.9921\n",
            "Epoch 9/10\n",
            "1875/1875 [==============================] - 4s 2ms/step - loss: 0.0188 - accuracy: 0.9943\n",
            "Epoch 10/10\n",
            "1875/1875 [==============================] - 4s 2ms/step - loss: 0.0160 - accuracy: 0.9951\n",
            "313/313 - 0s - loss: 0.0908 - accuracy: 0.9756\n",
            "\n",
            "Test accuracy: 0.975600004196167\n",
            "amount time: 36.0195 s\n"
          ],
          "name": "stdout"
        }
      ]
    },
    {
      "cell_type": "markdown",
      "metadata": {
        "id": "uX04HC5g3Tsc",
        "colab_type": "text"
      },
      "source": [
        "##### CNN卷积网络模型\n",
        "通过特征降维，在两层卷积后得到84个特征维度，用于Dense分类"
      ]
    },
    {
      "cell_type": "code",
      "metadata": {
        "id": "Awasm-IKF8dj",
        "colab_type": "code",
        "outputId": "b465f00f-4d1d-4a45-f523-6ae24e31787a",
        "colab": {
          "base_uri": "https://localhost:8080/",
          "height": 420
        }
      },
      "source": [
        "from tensorflow.keras.layers import Conv2D,MaxPooling2D,Flatten,Dense\n",
        "\n",
        "model0 = tf.keras.Sequential()\n",
        "\n",
        "model0.add(Conv2D(6, kernel_size=(5, 5), activation='relu', input_shape=(28, 28, 1)))\n",
        "model0.add(MaxPooling2D(pool_size=(2, 2)))\n",
        "model0.add(Conv2D(16, kernel_size=(5, 5), activation='relu'))\n",
        "model0.add(MaxPooling2D(pool_size=(2, 2)))\n",
        "model0.add(Flatten())\n",
        "model0.add(Dense(120, activation='relu'))\n",
        "model0.add(Dense(84, activation='relu'))\n",
        "model0.add(Dense(10, activation='softmax'))\n",
        "\n",
        "model0.summary()"
      ],
      "execution_count": 33,
      "outputs": [
        {
          "output_type": "stream",
          "text": [
            "Model: \"sequential_3\"\n",
            "_________________________________________________________________\n",
            "Layer (type)                 Output Shape              Param #   \n",
            "=================================================================\n",
            "conv2d_2 (Conv2D)            (None, 24, 24, 6)         156       \n",
            "_________________________________________________________________\n",
            "max_pooling2d_2 (MaxPooling2 (None, 12, 12, 6)         0         \n",
            "_________________________________________________________________\n",
            "conv2d_3 (Conv2D)            (None, 8, 8, 16)          2416      \n",
            "_________________________________________________________________\n",
            "max_pooling2d_3 (MaxPooling2 (None, 4, 4, 16)          0         \n",
            "_________________________________________________________________\n",
            "flatten_3 (Flatten)          (None, 256)               0         \n",
            "_________________________________________________________________\n",
            "dense_7 (Dense)              (None, 120)               30840     \n",
            "_________________________________________________________________\n",
            "dense_8 (Dense)              (None, 84)                10164     \n",
            "_________________________________________________________________\n",
            "dense_9 (Dense)              (None, 10)                850       \n",
            "=================================================================\n",
            "Total params: 44,426\n",
            "Trainable params: 44,426\n",
            "Non-trainable params: 0\n",
            "_________________________________________________________________\n"
          ],
          "name": "stdout"
        }
      ]
    },
    {
      "cell_type": "code",
      "metadata": {
        "id": "CFm_4piUHWnV",
        "colab_type": "code",
        "colab": {
          "base_uri": "https://localhost:8080/",
          "height": 420
        },
        "outputId": "c9f2c9da-cbf3-42db-c6c9-afbca8af38d5"
      },
      "source": [
        "x_train_c = x_train.reshape(x_train.shape[0], 28, 28, 1)\n",
        "x_test_c = x_test.reshape(x_test.shape[0], 28, 28, 1)\n",
        "\n",
        "start_time=time()\n",
        "model0.compile(loss=tf.keras.metrics.categorical_crossentropy, optimizer=tf.keras.optimizers.Adam(), metrics=['accuracy'])\n",
        "model0.fit(x_train_c, y_train_onehot, batch_size=128, epochs=10, verbose=1, validation_data=(x_test_c, y_test_onehot))\n",
        "score = model0.evaluate(x_test_c, y_test_onehot)\n",
        "print('Test Loss:', score[0])\n",
        "print('Test accuracy:', score[1])\n",
        "end_time=time()\n",
        "print(\"amount time: {:.4f} s\".format(end_time-start_time))  "
      ],
      "execution_count": 34,
      "outputs": [
        {
          "output_type": "stream",
          "text": [
            "Epoch 1/10\n",
            "469/469 [==============================] - 22s 47ms/step - loss: 0.3040 - accuracy: 0.9121 - val_loss: 0.0843 - val_accuracy: 0.9723\n",
            "Epoch 2/10\n",
            "469/469 [==============================] - 22s 47ms/step - loss: 0.0871 - accuracy: 0.9735 - val_loss: 0.0550 - val_accuracy: 0.9826\n",
            "Epoch 3/10\n",
            "469/469 [==============================] - 22s 47ms/step - loss: 0.0649 - accuracy: 0.9794 - val_loss: 0.0455 - val_accuracy: 0.9857\n",
            "Epoch 4/10\n",
            "469/469 [==============================] - 23s 48ms/step - loss: 0.0500 - accuracy: 0.9849 - val_loss: 0.0428 - val_accuracy: 0.9861\n",
            "Epoch 5/10\n",
            "469/469 [==============================] - 23s 48ms/step - loss: 0.0420 - accuracy: 0.9866 - val_loss: 0.0388 - val_accuracy: 0.9879\n",
            "Epoch 6/10\n",
            "469/469 [==============================] - 23s 49ms/step - loss: 0.0349 - accuracy: 0.9891 - val_loss: 0.0361 - val_accuracy: 0.9886\n",
            "Epoch 7/10\n",
            "469/469 [==============================] - 22s 48ms/step - loss: 0.0303 - accuracy: 0.9901 - val_loss: 0.0398 - val_accuracy: 0.9855\n",
            "Epoch 8/10\n",
            "469/469 [==============================] - 22s 48ms/step - loss: 0.0271 - accuracy: 0.9910 - val_loss: 0.0460 - val_accuracy: 0.9846\n",
            "Epoch 9/10\n",
            "469/469 [==============================] - 22s 48ms/step - loss: 0.0231 - accuracy: 0.9925 - val_loss: 0.0348 - val_accuracy: 0.9884\n",
            "Epoch 10/10\n",
            "469/469 [==============================] - 23s 48ms/step - loss: 0.0214 - accuracy: 0.9929 - val_loss: 0.0348 - val_accuracy: 0.9897\n",
            "313/313 [==============================] - 2s 8ms/step - loss: 0.0351 - accuracy: 0.9897\n",
            "Test Loss: 0.03509167581796646\n",
            "Test accuracy: 0.9897000193595886\n",
            "amount time: 227.7539 s\n"
          ],
          "name": "stdout"
        }
      ]
    },
    {
      "cell_type": "markdown",
      "metadata": {
        "id": "r8O9Sqeh4REY",
        "colab_type": "text"
      },
      "source": [
        "##### 总结\n",
        "通过CNN特征提取、降维网络，分类器性能提高了约1%(97.56%->98.97%），但相应的训练时间增长了约7倍。"
      ]
    },
    {
      "cell_type": "markdown",
      "metadata": {
        "id": "XKClytOfCiQt",
        "colab_type": "text"
      },
      "source": [
        "### 提取图片的HOG特征"
      ]
    },
    {
      "cell_type": "code",
      "metadata": {
        "id": "NK9pLjE3Cl2Q",
        "colab_type": "code",
        "colab": {}
      },
      "source": [
        "from skimage.feature import hog\n",
        "\n",
        "list_hog_fd = [] \n",
        "for i in range(60000):\n",
        "    fd = hog(x_train_flatten[i,:].reshape((28, 28)),\n",
        "             orientations=9, \n",
        "             pixels_per_cell=(14, 14), \n",
        "             cells_per_block=(1, 1), \n",
        "             visualize=False)\n",
        "    list_hog_fd.append(fd)\n",
        "list_hog_fd1 = []     \n",
        "for i in range(10000):\n",
        "    fd = hog(x_test_flatten[i,:].reshape((28, 28)),\n",
        "             orientations=9, \n",
        "             pixels_per_cell=(14, 14), \n",
        "             cells_per_block=(1, 1), \n",
        "             visualize=False)\n",
        "    list_hog_fd1.append(fd)  "
      ],
      "execution_count": 0,
      "outputs": []
    },
    {
      "cell_type": "code",
      "metadata": {
        "id": "Y34Ry_wiKi0T",
        "colab_type": "code",
        "colab": {
          "base_uri": "https://localhost:8080/",
          "height": 34
        },
        "outputId": "50fb6f47-da09-45b0-914c-953f0084c2af"
      },
      "source": [
        "x_train_hog=np.array(list_hog_fd)\n",
        "x_test_hog=np.array(list_hog_fd1)\n",
        "print(x_train_hog.shape,x_test_hog.shape)"
      ],
      "execution_count": 47,
      "outputs": [
        {
          "output_type": "stream",
          "text": [
            "(60000, 36) (10000, 36)\n"
          ],
          "name": "stdout"
        }
      ]
    },
    {
      "cell_type": "code",
      "metadata": {
        "id": "0pBUbSKkLUdk",
        "colab_type": "code",
        "colab": {}
      },
      "source": [
        "model_1 = tf.keras.Sequential([\n",
        "    tf.keras.layers.Dense(128, activation='relu'),\n",
        "    tf.keras.layers.Dense(10)\n",
        "])"
      ],
      "execution_count": 0,
      "outputs": []
    },
    {
      "cell_type": "code",
      "metadata": {
        "id": "4D3N0IBILs3h",
        "colab_type": "code",
        "colab": {
          "base_uri": "https://localhost:8080/",
          "height": 1000
        },
        "outputId": "68890c1f-607b-4c2f-f7b1-6ad451ebd546"
      },
      "source": [
        "start_time=time()\n",
        "model_1.compile(optimizer='adam',\n",
        "              loss=tf.keras.losses.SparseCategoricalCrossentropy(from_logits=True),\n",
        "              metrics=['accuracy'])\n",
        "model_1.fit(x_train_hog, y_train, epochs=30)\n",
        "test_loss, test_acc = model_1.evaluate(x_test_hog,  y_test, verbose=2)\n",
        "print('\\nTest accuracy:', test_acc)\n",
        "end_time=time()\n",
        "print(\"amount time: {:.4f} s\".format(end_time-start_time))"
      ],
      "execution_count": 53,
      "outputs": [
        {
          "output_type": "stream",
          "text": [
            "Epoch 1/30\n",
            "1875/1875 [==============================] - 3s 1ms/step - loss: 0.2572 - accuracy: 0.9148\n",
            "Epoch 2/30\n",
            "1875/1875 [==============================] - 3s 1ms/step - loss: 0.2553 - accuracy: 0.9155\n",
            "Epoch 3/30\n",
            "1875/1875 [==============================] - 3s 1ms/step - loss: 0.2548 - accuracy: 0.9154\n",
            "Epoch 4/30\n",
            "1875/1875 [==============================] - 3s 1ms/step - loss: 0.2537 - accuracy: 0.9148\n",
            "Epoch 5/30\n",
            "1875/1875 [==============================] - 3s 1ms/step - loss: 0.2524 - accuracy: 0.9161\n",
            "Epoch 6/30\n",
            "1875/1875 [==============================] - 3s 1ms/step - loss: 0.2523 - accuracy: 0.9165\n",
            "Epoch 7/30\n",
            "1875/1875 [==============================] - 3s 1ms/step - loss: 0.2511 - accuracy: 0.9165\n",
            "Epoch 8/30\n",
            "1875/1875 [==============================] - 3s 1ms/step - loss: 0.2504 - accuracy: 0.9169\n",
            "Epoch 9/30\n",
            "1875/1875 [==============================] - 3s 1ms/step - loss: 0.2501 - accuracy: 0.9171\n",
            "Epoch 10/30\n",
            "1875/1875 [==============================] - 3s 1ms/step - loss: 0.2501 - accuracy: 0.9176\n",
            "Epoch 11/30\n",
            "1875/1875 [==============================] - 3s 1ms/step - loss: 0.2483 - accuracy: 0.9166\n",
            "Epoch 12/30\n",
            "1875/1875 [==============================] - 3s 1ms/step - loss: 0.2478 - accuracy: 0.9184\n",
            "Epoch 13/30\n",
            "1875/1875 [==============================] - 3s 1ms/step - loss: 0.2462 - accuracy: 0.9177\n",
            "Epoch 14/30\n",
            "1875/1875 [==============================] - 3s 1ms/step - loss: 0.2464 - accuracy: 0.9176\n",
            "Epoch 15/30\n",
            "1875/1875 [==============================] - 3s 1ms/step - loss: 0.2450 - accuracy: 0.9186\n",
            "Epoch 16/30\n",
            "1875/1875 [==============================] - 3s 1ms/step - loss: 0.2443 - accuracy: 0.9185\n",
            "Epoch 17/30\n",
            "1875/1875 [==============================] - 3s 1ms/step - loss: 0.2438 - accuracy: 0.9189\n",
            "Epoch 18/30\n",
            "1875/1875 [==============================] - 3s 1ms/step - loss: 0.2434 - accuracy: 0.9198\n",
            "Epoch 19/30\n",
            "1875/1875 [==============================] - 3s 1ms/step - loss: 0.2422 - accuracy: 0.9191\n",
            "Epoch 20/30\n",
            "1875/1875 [==============================] - 2s 1ms/step - loss: 0.2426 - accuracy: 0.9202\n",
            "Epoch 21/30\n",
            "1875/1875 [==============================] - 3s 1ms/step - loss: 0.2422 - accuracy: 0.9192\n",
            "Epoch 22/30\n",
            "1875/1875 [==============================] - 3s 1ms/step - loss: 0.2408 - accuracy: 0.9197\n",
            "Epoch 23/30\n",
            "1875/1875 [==============================] - 3s 1ms/step - loss: 0.2404 - accuracy: 0.9204\n",
            "Epoch 24/30\n",
            "1875/1875 [==============================] - 3s 1ms/step - loss: 0.2397 - accuracy: 0.9202\n",
            "Epoch 25/30\n",
            "1875/1875 [==============================] - 3s 1ms/step - loss: 0.2395 - accuracy: 0.9201\n",
            "Epoch 26/30\n",
            "1875/1875 [==============================] - 2s 1ms/step - loss: 0.2385 - accuracy: 0.9206\n",
            "Epoch 27/30\n",
            "1875/1875 [==============================] - 3s 1ms/step - loss: 0.2378 - accuracy: 0.9208\n",
            "Epoch 28/30\n",
            "1875/1875 [==============================] - 3s 1ms/step - loss: 0.2379 - accuracy: 0.9205\n",
            "Epoch 29/30\n",
            "1875/1875 [==============================] - 3s 1ms/step - loss: 0.2370 - accuracy: 0.9210\n",
            "Epoch 30/30\n",
            "1875/1875 [==============================] - 3s 1ms/step - loss: 0.2371 - accuracy: 0.9214\n",
            "313/313 - 0s - loss: 0.2720 - accuracy: 0.9091\n",
            "\n",
            "Test accuracy: 0.9090999960899353\n",
            "amount time: 77.8426 s\n"
          ],
          "name": "stdout"
        }
      ]
    },
    {
      "cell_type": "markdown",
      "metadata": {
        "id": "CvQti9qbMs89",
        "colab_type": "text"
      },
      "source": [
        "#### 总结\n",
        "通过提取图片的HOG特征，在如图的30 EPOCHES 中，在与线性分类器相同的网络中，依旧有迭代增加的趋势，但收敛较慢，HOG特征依旧有较大潜力可以挖掘。"
      ]
    }
  ]
}
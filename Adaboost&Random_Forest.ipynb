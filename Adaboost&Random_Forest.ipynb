{
  "nbformat": 4,
  "nbformat_minor": 0,
  "metadata": {
    "colab": {
      "name": "Adaboost&Random_Forest",
      "provenance": [],
      "collapsed_sections": [],
      "mount_file_id": "19elwxKUnfA99AXpVR2cTJjnmvSCLLTEN",
      "authorship_tag": "ABX9TyNT4uOarhrDl8hhuqBmhBuS",
      "include_colab_link": true
    },
    "kernelspec": {
      "name": "python3",
      "display_name": "Python 3"
    }
  },
  "cells": [
    {
      "cell_type": "markdown",
      "metadata": {
        "id": "view-in-github",
        "colab_type": "text"
      },
      "source": [
        "<a href=\"https://colab.research.google.com/github/Phantom-Ren/PR_TH/blob/master/Adaboost%26Random_Forest.ipynb\" target=\"_parent\"><img src=\"https://colab.research.google.com/assets/colab-badge.svg\" alt=\"Open In Colab\"/></a>"
      ]
    },
    {
      "cell_type": "markdown",
      "metadata": {
        "id": "Qh1LipO-Rfnr",
        "colab_type": "text"
      },
      "source": [
        "<center>\n",
        "\n",
        "# 模式识别·第六次作业·Adaboost&Random_Forest\n",
        "\n",
        "#### 纪泽西 17375338\n",
        "\n",
        "#### Last Modified:19th,April,2020\n",
        "\n",
        "</center>\n",
        "\n",
        "<table align=\"center\">\n",
        "  <td align=\"center\"><a target=\"_blank\" href=\"https://colab.research.google.com/github/Phantom-Ren/PR_TH/blob/master/Adaboost&Random_Forest.ipynb\"> \n",
        "        <img src=\"http://introtodeeplearning.com/images/colab/colab.png?v2.0\"  style=\"padding-bottom:5px;\" /><br>Run in Google Colab</a></td>\n",
        "</table>\n"
      ]
    },
    {
      "cell_type": "markdown",
      "metadata": {
        "id": "c2Uxa_o7h6Gu",
        "colab_type": "text"
      },
      "source": [
        "## Part1: 导入库文件及数据集\n",
        "\n",
        "#### 如需在其他环境运行需改变数据集所在路径"
      ]
    },
    {
      "cell_type": "code",
      "metadata": {
        "id": "qoesIwOVReii",
        "colab_type": "code",
        "colab": {
          "base_uri": "https://localhost:8080/",
          "height": 34
        },
        "outputId": "8ae977eb-d1db-470e-c08d-94c6471e6887"
      },
      "source": [
        "%tensorflow_version 2.x\n",
        "import tensorflow as tf\n",
        "import sklearn\n",
        "from sklearn.metrics import confusion_matrix\n",
        "from sklearn.ensemble import AdaBoostClassifier,GradientBoostingClassifier,RandomForestClassifier\n",
        "from sklearn.metrics import accuracy_score\n",
        "from sklearn.model_selection import cross_val_score\n",
        "\n",
        "\n",
        "import glob\n",
        "import numpy as np\n",
        "import matplotlib.pyplot as plt\n",
        "import seaborn as sns\n",
        "sns.set()\n",
        "from time import *\n",
        "\n",
        "import os\n",
        "import scipy.io as sio\n",
        "\n",
        "%cd /content/drive/My Drive/Pattern Recognition/Dataset/cell_dataset"
      ],
      "execution_count": 41,
      "outputs": [
        {
          "output_type": "stream",
          "text": [
            "/content/drive/My Drive/Pattern Recognition/Dataset/cell_dataset\n"
          ],
          "name": "stdout"
        }
      ]
    },
    {
      "cell_type": "code",
      "metadata": {
        "id": "OaiNnnMV5lxq",
        "colab_type": "code",
        "colab": {}
      },
      "source": [
        "x_train = np.load(\"x_train.npy\")\n",
        "y_train = np.load(\"y_train.npy\")\n",
        "x_test = np.load(\"x_test.npy\")\n",
        "y_test = np.load(\"y_test.npy\")"
      ],
      "execution_count": 0,
      "outputs": []
    },
    {
      "cell_type": "code",
      "metadata": {
        "id": "ymxT80_K69VK",
        "colab_type": "code",
        "colab": {
          "base_uri": "https://localhost:8080/",
          "height": 67
        },
        "outputId": "b3d58b52-b697-4e34-846d-f21e9f93ce43"
      },
      "source": [
        "print(x_train.shape,x_test.shape)\n",
        "print(np.unique(y_test))\n",
        "print(np.bincount(y_test.astype(int)))"
      ],
      "execution_count": 14,
      "outputs": [
        {
          "output_type": "stream",
          "text": [
            "(14536, 51, 51) (6229, 51, 51)\n",
            "[0. 1. 2.]\n",
            "[ 683 2439 3107]\n"
          ],
          "name": "stdout"
        }
      ]
    },
    {
      "cell_type": "markdown",
      "metadata": {
        "id": "o3kA6PCpiW3t",
        "colab_type": "text"
      },
      "source": [
        "## Part2:数据预处理"
      ]
    },
    {
      "cell_type": "markdown",
      "metadata": {
        "id": "5qNUWuFSYfxW",
        "colab_type": "text"
      },
      "source": [
        "#### 可视化展现数据集特征"
      ]
    },
    {
      "cell_type": "code",
      "metadata": {
        "id": "EAOBYjBVakC9",
        "colab_type": "code",
        "outputId": "83d9f435-df44-494e-f2f9-73977e784b3c",
        "colab": {
          "base_uri": "https://localhost:8080/",
          "height": 427
        }
      },
      "source": [
        "for i in range(10,12):\n",
        "  plt.subplot(1,2,1)\n",
        "  plt.imshow(x_test[i,:,:])\n",
        "  plt.xlabel(y_test[i])\n",
        "  plt.subplot(1,2,2)\n",
        "  plt.imshow(x_train[i,:,:])\n",
        "  plt.xlabel(y_train[i])\n",
        "  plt.show()\n",
        "\n"
      ],
      "execution_count": 10,
      "outputs": [
        {
          "output_type": "display_data",
          "data": {
            "image/png": "[encoded data removed]",
            "text/plain": [
              "<Figure size 432x288 with 2 Axes>"
            ]
          },
          "metadata": {
            "tags": [],
            "needs_background": "light"
          }
        },
        {
          "output_type": "display_data",
          "data": {
            "image/png": "[encoded data removed]",
            "text/plain": [
              "<Figure size 432x288 with 2 Axes>"
            ]
          },
          "metadata": {
            "tags": [],
            "needs_background": "light"
          }
        }
      ]
    },
    {
      "cell_type": "code",
      "metadata": {
        "id": "iICgLZqY_jfN",
        "colab_type": "code",
        "colab": {
          "base_uri": "https://localhost:8080/",
          "height": 34
        },
        "outputId": "2a034c2e-a93f-45ee-cf6b-6241c6cac69d"
      },
      "source": [
        "x_train = x_train.reshape(x_train.shape[0],-1)\n",
        "x_test = x_test.reshape(x_test.shape[0],-1)\n",
        "print(x_train.shape,x_test.shape)"
      ],
      "execution_count": 15,
      "outputs": [
        {
          "output_type": "stream",
          "text": [
            "(14536, 2601) (6229, 2601)\n"
          ],
          "name": "stdout"
        }
      ]
    },
    {
      "cell_type": "markdown",
      "metadata": {
        "id": "FuNXbVy7jZd-",
        "colab_type": "text"
      },
      "source": [
        "## Part3:模型建立\n"
      ]
    },
    {
      "cell_type": "markdown",
      "metadata": {
        "id": "wuTRL5qIHPnK",
        "colab_type": "text"
      },
      "source": [
        "#### AdaBoost算法"
      ]
    },
    {
      "cell_type": "code",
      "metadata": {
        "id": "r2BjvtO7CmHR",
        "colab_type": "code",
        "colab": {}
      },
      "source": [
        "def draw_confusionmatrix(ytest, yhat):\n",
        "    plt.figure(figsize=(10,7))\n",
        "    cm = confusion_matrix(ytest, yhat)\n",
        "    ax = sns.heatmap(cm, annot=True, fmt=\"d\")\n",
        "    plt.ylabel('True label')\n",
        "    plt.xlabel('Predicted label')\n",
        "    acc = accuracy_score(ytest, yhat)\n",
        "    print(f\"Sum Axis-1 as Classification accuracy: {acc}\")"
      ],
      "execution_count": 0,
      "outputs": []
    },
    {
      "cell_type": "code",
      "metadata": {
        "id": "1yQhw1BH_9Qj",
        "colab_type": "code",
        "colab": {}
      },
      "source": [
        "abc=AdaBoostClassifier(n_estimators=100)"
      ],
      "execution_count": 0,
      "outputs": []
    },
    {
      "cell_type": "code",
      "metadata": {
        "id": "Wp1loNVLAy-J",
        "colab_type": "code",
        "colab": {
          "base_uri": "https://localhost:8080/",
          "height": 498
        },
        "outputId": "1226f7ae-8d49-4c14-926b-67a7e4c666d4"
      },
      "source": [
        "st=time()\n",
        "abc.fit(x_train,y_train)\n",
        "et=time()\n",
        "print(\"Time Usage:\",et-st,\"s\")\n",
        "yhat_abc=abc.predict(x_test)\n",
        "print(abc.score(x_test,y_test))\n",
        "draw_confusionmatrix(y_test,yhat_abc)"
      ],
      "execution_count": 37,
      "outputs": [
        {
          "output_type": "stream",
          "text": [
            "Time Usage: 79.12906050682068 s\n",
            "0.6919248675549847\n",
            "Sum Axis-1 as Classification accuracy: 0.6919248675549847\n"
          ],
          "name": "stdout"
        },
        {
          "output_type": "display_data",
          "data": {
            "image/png": "[encoded data removed]",
            "text/plain": [
              "<Figure size 720x504 with 2 Axes>"
            ]
          },
          "metadata": {
            "tags": []
          }
        }
      ]
    },
    {
      "cell_type": "markdown",
      "metadata": {
        "id": "_r899f_5IEj5",
        "colab_type": "text"
      },
      "source": [
        "#### GBTD 算法"
      ]
    },
    {
      "cell_type": "code",
      "metadata": {
        "id": "FgQFREdwCGgR",
        "colab_type": "code",
        "colab": {}
      },
      "source": [
        "gbc=GradientBoostingClassifier(n_estimators=100)"
      ],
      "execution_count": 0,
      "outputs": []
    },
    {
      "cell_type": "code",
      "metadata": {
        "id": "dCb8u-g0CPB5",
        "colab_type": "code",
        "colab": {
          "base_uri": "https://localhost:8080/",
          "height": 482
        },
        "outputId": "4205365d-7f30-4d1d-a922-31767708513e"
      },
      "source": [
        "st=time()\n",
        "gbc.fit(x_train,y_train)\n",
        "et=time()\n",
        "print(\"Time Usage:\",et-st)\n",
        "yhat_gbc=gbc.predict(x_test)\n",
        "draw_confusionmatrix(y_test,yhat_gbc)"
      ],
      "execution_count": 39,
      "outputs": [
        {
          "output_type": "stream",
          "text": [
            "Time Usage: 488.30764532089233\n",
            "Sum Axis-1 as Classification accuracy: 0.7283673141756302\n"
          ],
          "name": "stdout"
        },
        {
          "output_type": "display_data",
          "data": {
            "image/png": "[encoded data removed]",
            "text/plain": [
              "<Figure size 720x504 with 2 Axes>"
            ]
          },
          "metadata": {
            "tags": []
          }
        }
      ]
    },
    {
      "cell_type": "markdown",
      "metadata": {
        "id": "C7h1DjDVItvP",
        "colab_type": "text"
      },
      "source": [
        "### Random Forest 算法"
      ]
    },
    {
      "cell_type": "code",
      "metadata": {
        "id": "0FKDx4HmIyBX",
        "colab_type": "code",
        "colab": {
          "base_uri": "https://localhost:8080/",
          "height": 336
        },
        "outputId": "a1ea4002-edb6-4a50-9051-99a32a40baa6"
      },
      "source": [
        "for i in range(10,200,10):\n",
        "    rdc = RandomForestClassifier(n_estimators=i)\n",
        "    rdc.fit(x_train,y_train)\n",
        "    yhat_rdc = []\n",
        "    yhat_i = rdc.predict(x_test)\n",
        "    yhat_rdc = yhat_rdc.append(yhat_i)\n",
        "    acc_rdc = accuracy_score(y_test,yhat_i)\n",
        "    print(\"n_estimators = %d, random forest accuracy:%f\" %(i,acc_rdc))    "
      ],
      "execution_count": 43,
      "outputs": [
        {
          "output_type": "stream",
          "text": [
            "n_estimators = 10, random forest accuracy:0.701236\n",
            "n_estimators = 20, random forest accuracy:0.722588\n",
            "n_estimators = 30, random forest accuracy:0.725799\n",
            "n_estimators = 40, random forest accuracy:0.729652\n",
            "n_estimators = 50, random forest accuracy:0.732702\n",
            "n_estimators = 60, random forest accuracy:0.727404\n",
            "n_estimators = 70, random forest accuracy:0.729652\n",
            "n_estimators = 80, random forest accuracy:0.730775\n",
            "n_estimators = 90, random forest accuracy:0.739766\n",
            "n_estimators = 100, random forest accuracy:0.736073\n",
            "n_estimators = 110, random forest accuracy:0.734468\n",
            "n_estimators = 120, random forest accuracy:0.735592\n",
            "n_estimators = 130, random forest accuracy:0.735913\n",
            "n_estimators = 140, random forest accuracy:0.734789\n",
            "n_estimators = 150, random forest accuracy:0.734628\n",
            "n_estimators = 160, random forest accuracy:0.735431\n",
            "n_estimators = 170, random forest accuracy:0.735752\n",
            "n_estimators = 180, random forest accuracy:0.735592\n",
            "n_estimators = 190, random forest accuracy:0.734468\n"
          ],
          "name": "stdout"
        }
      ]
    },
    {
      "cell_type": "code",
      "metadata": {
        "id": "twB8l5QSJ_cg",
        "colab_type": "code",
        "colab": {
          "base_uri": "https://localhost:8080/",
          "height": 465
        },
        "outputId": "4628b9de-f096-45a9-df95-1c713002e16b"
      },
      "source": [
        "rdc = RandomForestClassifier(n_estimators=80)\n",
        "rdc.fit(x_train,y_train)\n",
        "yhat_rdc = rdc.predict(x_test)\n",
        "draw_confusionmatrix(y_test,yhat_rdc)"
      ],
      "execution_count": 49,
      "outputs": [
        {
          "output_type": "stream",
          "text": [
            "Sum Axis-1 as Classification accuracy: 0.7367153636217691\n"
          ],
          "name": "stdout"
        },
        {
          "output_type": "display_data",
          "data": {
            "image/png": "[encoded data removed]",
            "text/plain": [
              "<Figure size 720x504 with 2 Axes>"
            ]
          },
          "metadata": {
            "tags": []
          }
        }
      ]
    },
    {
      "cell_type": "markdown",
      "metadata": {
        "id": "xuXvlOQcOHYW",
        "colab_type": "text"
      },
      "source": [
        "总体而言，针对细胞核分类，在集成学习方法中，随机森林获得比Adaboost/GBTD方法更好的性能。如需获得更好的性能，可以考虑对2601维数据进行特征提取。"
      ]
    }
  ]
}
{
  "nbformat": 4,
  "nbformat_minor": 0,
  "metadata": {
    "colab": {
      "name": "SVM.ipynb",
      "provenance": [],
      "collapsed_sections": [],
      "toc_visible": true,
      "mount_file_id": "1abPkSIr7WtJxjCVwPGUXgbbptQzWX0vC",
      "authorship_tag": "ABX9TyMA7hMAYDcZeUqS3J89NXrK",
      "include_colab_link": true
    },
    "kernelspec": {
      "name": "python3",
      "display_name": "Python 3"
    }
  },
  "cells": [
    {
      "cell_type": "markdown",
      "metadata": {
        "id": "view-in-github",
        "colab_type": "text"
      },
      "source": [
        "<a href=\"https://colab.research.google.com/github/Phantom-Ren/PR_TH/blob/master/SVM.ipynb\" target=\"_parent\"><img src=\"https://colab.research.google.com/assets/colab-badge.svg\" alt=\"Open In Colab\"/></a>"
      ]
    },
    {
      "cell_type": "markdown",
      "metadata": {
        "id": "Qh1LipO-Rfnr",
        "colab_type": "text"
      },
      "source": [
        "<center>\n",
        "\n",
        "# 模式识别·第二次作业·支持向量机（SVM）\n",
        "\n",
        "#### 纪泽西 17375338\n",
        "\n",
        "#### Last Modified:10th,March,2020\n",
        "\n",
        "</center>\n",
        "\n",
        "<table align=\"center\">\n",
        "  <td align=\"center\"><a target=\"_blank\" href=\"https://colab.research.google.com/github/Phantom-Ren/PR_TH/blob/master/Linear1.ipynb\"> \n",
        "        <img src=\"http://introtodeeplearning.com/images/colab/colab.png?v2.0\"  style=\"padding-bottom:5px;\" /><br>Run in Google Colab</a></td>\n",
        "</table>\n"
      ]
    },
    {
      "cell_type": "markdown",
      "metadata": {
        "id": "c2Uxa_o7h6Gu",
        "colab_type": "text"
      },
      "source": [
        "## Part1: 导入库文件及数据集\n",
        "\n",
        "#### 如需在其他环境运行需改变数据集所在路径"
      ]
    },
    {
      "cell_type": "code",
      "metadata": {
        "id": "qoesIwOVReii",
        "colab_type": "code",
        "outputId": "cad4821e-6e1e-4a33-eed9-3cbf1af8aa3d",
        "colab": {
          "base_uri": "https://localhost:8080/",
          "height": 50
        }
      },
      "source": [
        "%tensorflow_version 2.x\n",
        "import tensorflow as tf\n",
        "\n",
        "import numpy as np\n",
        "import matplotlib.pyplot as plt\n",
        "import os\n",
        "import scipy.io as sio\n",
        "\n",
        "path=\"/content/drive/My Drive/Pattern Recognition/Dataset\"\n",
        "os.chdir(path)\n",
        "os.listdir(path)"
      ],
      "execution_count": 0,
      "outputs": [
        {
          "output_type": "stream",
          "text": [
            "TensorFlow 2.x selected.\n"
          ],
          "name": "stdout"
        },
        {
          "output_type": "execute_result",
          "data": {
            "text/plain": [
              "['test_labels.mat', 'train_labels.mat', 'train_images.mat', 'test_images.mat']"
            ]
          },
          "metadata": {
            "tags": []
          },
          "execution_count": 1
        }
      ]
    },
    {
      "cell_type": "markdown",
      "metadata": {
        "id": "o3kA6PCpiW3t",
        "colab_type": "text"
      },
      "source": [
        "## Part2:数据预处理"
      ]
    },
    {
      "cell_type": "code",
      "metadata": {
        "id": "CNmuU8XRZI_S",
        "colab_type": "code",
        "colab": {}
      },
      "source": [
        "train_images=sio.loadmat(\"train_images.mat\")\n",
        "test_images=sio.loadmat(\"test_images.mat\")\n",
        "train_labels=sio.loadmat(\"train_labels.mat\")\n",
        "test_labels=sio.loadmat(\"test_labels.mat\")\n",
        "\n",
        "def trans(a):\n",
        "  a1=a.swapaxes(0,2)\n",
        "  a2=a1.swapaxes(1,2)\n",
        "  return a2\n",
        "\n",
        "train_dataset_np=np.array(train_images.pop('train_images'))\n",
        "train_dataset_np=trans(train_dataset_np)\n",
        "train_labels_np=np.array(train_labels.pop('train_labels1'))\n",
        "train_labels_np=train_labels_np.reshape(60000)\n",
        "test_dataset_np=np.array(test_images.pop('test_images'))\n",
        "test_dataset_np=trans(test_dataset_np)\n",
        "test_labels_np=np.array(test_labels.pop('test_labels1'))\n",
        "test_labels_np=test_labels_np.reshape(10000)"
      ],
      "execution_count": 0,
      "outputs": []
    },
    {
      "cell_type": "markdown",
      "metadata": {
        "id": "WUvK_hxXipZp",
        "colab_type": "text"
      },
      "source": [
        "### 显示预处理后数据集格式及例举数据"
      ]
    },
    {
      "cell_type": "code",
      "metadata": {
        "id": "EAOBYjBVakC9",
        "colab_type": "code",
        "outputId": "cbdd53f6-8c7c-4f2a-c176-5e4a016f5c13",
        "colab": {
          "base_uri": "https://localhost:8080/",
          "height": 1000
        }
      },
      "source": [
        "print(train_dataset_np.shape,train_dataset_np.size,train_dataset_np.ndim)\n",
        "print(train_labels_np.shape,train_labels_np.size,train_labels_np.ndim)\n",
        "print(test_dataset_np.shape,test_dataset_np.size,test_dataset_np.ndim)\n",
        "print(test_labels_np.shape,test_labels_np.size,test_labels_np.ndim)\n",
        "\n",
        "for i in range(0,2):\n",
        "  plt.imshow(test_dataset_np[i,:,:])\n",
        "  plt.xlabel(test_labels_np[i])\n",
        "  plt.colorbar()\n",
        "  plt.show()\n",
        "  plt.imshow(train_dataset_np[i,:,:])\n",
        "  plt.xlabel(train_labels_np[i])\n",
        "  plt.colorbar()\n",
        "  plt.show()\n",
        "\n"
      ],
      "execution_count": 0,
      "outputs": [
        {
          "output_type": "stream",
          "text": [
            "(60000, 28, 28) 47040000 3\n",
            "(60000,) 60000 1\n",
            "(10000, 28, 28) 7840000 3\n",
            "(10000,) 10000 1\n"
          ],
          "name": "stdout"
        },
        {
          "output_type": "display_data",
          "data": {
            "image/png": "[encoded data removed]",
            "text/plain": [
              "<Figure size 432x288 with 2 Axes>"
            ]
          },
          "metadata": {
            "tags": []
          }
        },
        {
          "output_type": "display_data",
          "data": {
            "image/png": "[encoded data removed]",
            "text/plain": [
              "<Figure size 432x288 with 2 Axes>"
            ]
          },
          "metadata": {
            "tags": []
          }
        },
        {
          "output_type": "display_data",
          "data": {
            "image/png": "[encoded data removed]",
            "text/plain": [
              "<Figure size 432x288 with 2 Axes>"
            ]
          },
          "metadata": {
            "tags": []
          }
        },
        {
          "output_type": "display_data",
          "data": {
            "image/png": "[encoded data removed]",
            "text/plain": [
              "<Figure size 432x288 with 2 Axes>"
            ]
          },
          "metadata": {
            "tags": []
          }
        }
      ]
    },
    {
      "cell_type": "markdown",
      "metadata": {
        "id": "sTV-qBsei9sU",
        "colab_type": "text"
      },
      "source": [
        "### 将数据限幅至[0,1]"
      ]
    },
    {
      "cell_type": "code",
      "metadata": {
        "id": "iQBSbK83kx7E",
        "colab_type": "code",
        "colab": {}
      },
      "source": [
        "train_dataset_np=train_dataset_np/255.0\n",
        "test_dataset_np=test_dataset_np/255.0"
      ],
      "execution_count": 0,
      "outputs": []
    },
    {
      "cell_type": "markdown",
      "metadata": {
        "id": "IThI2zjGjF0x",
        "colab_type": "text"
      },
      "source": [
        "### 再次看一看结果"
      ]
    },
    {
      "cell_type": "code",
      "metadata": {
        "id": "12fNuFAVk9Pz",
        "colab_type": "code",
        "outputId": "c3743b98-f693-4d67-add9-b3c35d24b30c",
        "colab": {
          "base_uri": "https://localhost:8080/",
          "height": 1000
        }
      },
      "source": [
        "for i in range(3,5):\n",
        "  plt.imshow(test_dataset_np[i,:,:])\n",
        "  plt.xlabel(test_labels_np[i])\n",
        "  plt.colorbar()\n",
        "  plt.show()\n",
        "  plt.imshow(train_dataset_np[i,:,:])\n",
        "  plt.xlabel(train_labels_np[i])\n",
        "  plt.colorbar()\n",
        "  plt.show()\n"
      ],
      "execution_count": 0,
      "outputs": [
        {
          "output_type": "display_data",
          "data": {
            "image/png": "[encoded data removed]",
            "text/plain": [
              "<Figure size 432x288 with 2 Axes>"
            ]
          },
          "metadata": {
            "tags": []
          }
        },
        {
          "output_type": "display_data",
          "data": {
            "image/png": "[encoded data removed]",
            "text/plain": [
              "<Figure size 432x288 with 2 Axes>"
            ]
          },
          "metadata": {
            "tags": []
          }
        },
        {
          "output_type": "display_data",
          "data": {
            "image/png": "[encoded data removed]",
            "text/plain": [
              "<Figure size 432x288 with 2 Axes>"
            ]
          },
          "metadata": {
            "tags": []
          }
        },
        {
          "output_type": "display_data",
          "data": {
            "image/png": "[encoded data removed]",
            "text/plain": [
              "<Figure size 432x288 with 2 Axes>"
            ]
          },
          "metadata": {
            "tags": []
          }
        }
      ]
    },
    {
      "cell_type": "markdown",
      "metadata": {
        "id": "FuNXbVy7jZd-",
        "colab_type": "text"
      },
      "source": [
        "## Part3:模型建立\n"
      ]
    },
    {
      "cell_type": "markdown",
      "metadata": {
        "id": "6zSU9MxNjqn2",
        "colab_type": "text"
      },
      "source": [
        "### 使用Keras快速建立模型"
      ]
    },
    {
      "cell_type": "code",
      "metadata": {
        "id": "vGZsJfoxlC6S",
        "colab_type": "code",
        "outputId": "78c1cb81-e05a-47dc-bdee-5b17afdbc8c4",
        "colab": {
          "base_uri": "https://localhost:8080/",
          "height": 252
        }
      },
      "source": [
        "model = tf.keras.Sequential([\n",
        "    tf.keras.layers.Flatten(input_shape=(28, 28)),\n",
        "    tf.keras.layers.Dense(128, activation='relu'),\n",
        "    tf.keras.layers.Dense(10)\n",
        "])\n",
        "model.summary()"
      ],
      "execution_count": 0,
      "outputs": [
        {
          "output_type": "stream",
          "text": [
            "Model: \"sequential\"\n",
            "_________________________________________________________________\n",
            "Layer (type)                 Output Shape              Param #   \n",
            "=================================================================\n",
            "flatten (Flatten)            (None, 784)               0         \n",
            "_________________________________________________________________\n",
            "dense (Dense)                (None, 128)               100480    \n",
            "_________________________________________________________________\n",
            "dense_1 (Dense)              (None, 10)                1290      \n",
            "=================================================================\n",
            "Total params: 101,770\n",
            "Trainable params: 101,770\n",
            "Non-trainable params: 0\n",
            "_________________________________________________________________\n"
          ],
          "name": "stdout"
        }
      ]
    },
    {
      "cell_type": "markdown",
      "metadata": {
        "id": "4tBxPJEMjsao",
        "colab_type": "text"
      },
      "source": [
        "### 模型编译"
      ]
    },
    {
      "cell_type": "code",
      "metadata": {
        "id": "XWbuM4zqlVpy",
        "colab_type": "code",
        "colab": {}
      },
      "source": [
        "model.compile(optimizer='adam',\n",
        "              loss=tf.keras.losses.SparseCategoricalCrossentropy(from_logits=True),\n",
        "              metrics=['accuracy'])"
      ],
      "execution_count": 0,
      "outputs": []
    },
    {
      "cell_type": "markdown",
      "metadata": {
        "id": "dW4zk1MxjvqZ",
        "colab_type": "text"
      },
      "source": [
        "### 模型训练"
      ]
    },
    {
      "cell_type": "code",
      "metadata": {
        "id": "iZv9ZJOClZ1U",
        "colab_type": "code",
        "outputId": "e575e4f2-5dd7-4ec6-dfc0-d77fa73e311a",
        "colab": {
          "base_uri": "https://localhost:8080/",
          "height": 386
        }
      },
      "source": [
        "model.fit(train_dataset_np, train_labels_np, epochs=10)"
      ],
      "execution_count": 0,
      "outputs": [
        {
          "output_type": "stream",
          "text": [
            "Train on 60000 samples\n",
            "Epoch 1/10\n",
            "60000/60000 [==============================] - 5s 85us/sample - loss: 0.2520 - accuracy: 0.9281\n",
            "Epoch 2/10\n",
            "60000/60000 [==============================] - 5s 75us/sample - loss: 0.1113 - accuracy: 0.9671\n",
            "Epoch 3/10\n",
            "60000/60000 [==============================] - 5s 75us/sample - loss: 0.0779 - accuracy: 0.9765\n",
            "Epoch 4/10\n",
            "60000/60000 [==============================] - 4s 74us/sample - loss: 0.0572 - accuracy: 0.9826\n",
            "Epoch 5/10\n",
            "60000/60000 [==============================] - 5s 76us/sample - loss: 0.0448 - accuracy: 0.9861\n",
            "Epoch 6/10\n",
            "60000/60000 [==============================] - 5s 75us/sample - loss: 0.0343 - accuracy: 0.9898\n",
            "Epoch 7/10\n",
            "60000/60000 [==============================] - 4s 75us/sample - loss: 0.0286 - accuracy: 0.9911\n",
            "Epoch 8/10\n",
            "60000/60000 [==============================] - 5s 75us/sample - loss: 0.0223 - accuracy: 0.9934\n",
            "Epoch 9/10\n",
            "60000/60000 [==============================] - 4s 75us/sample - loss: 0.0188 - accuracy: 0.9944\n",
            "Epoch 10/10\n",
            "60000/60000 [==============================] - 4s 75us/sample - loss: 0.0163 - accuracy: 0.9948\n"
          ],
          "name": "stdout"
        },
        {
          "output_type": "execute_result",
          "data": {
            "text/plain": [
              "<tensorflow.python.keras.callbacks.History at 0x7f2b71e4f668>"
            ]
          },
          "metadata": {
            "tags": []
          },
          "execution_count": 10
        }
      ]
    },
    {
      "cell_type": "markdown",
      "metadata": {
        "id": "GrW4oBF2j9wU",
        "colab_type": "text"
      },
      "source": [
        "### 显示10Epoch训练后最终结果"
      ]
    },
    {
      "cell_type": "code",
      "metadata": {
        "id": "BLxzNF7Blt-N",
        "colab_type": "code",
        "outputId": "4f87fcd0-add1-40a7-be6e-5849338225cf",
        "colab": {
          "base_uri": "https://localhost:8080/",
          "height": 67
        }
      },
      "source": [
        "test_loss, test_acc = model.evaluate(test_dataset_np,  test_labels_np, verbose=2)\n",
        "\n",
        "print('\\nTest accuracy:', test_acc)"
      ],
      "execution_count": 0,
      "outputs": [
        {
          "output_type": "stream",
          "text": [
            "10000/10000 - 0s - loss: 0.0708 - accuracy: 0.9797\n",
            "\n",
            "Test accuracy: 0.9797\n"
          ],
          "name": "stdout"
        }
      ]
    },
    {
      "cell_type": "markdown",
      "metadata": {
        "id": "JO138np0kMjU",
        "colab_type": "text"
      },
      "source": [
        "## Part4：建立预测模型"
      ]
    },
    {
      "cell_type": "code",
      "metadata": {
        "id": "gV9kGc0VsrbD",
        "colab_type": "code",
        "colab": {}
      },
      "source": [
        "probability_model = tf.keras.Sequential([model, tf.keras.layers.Softmax()])\n",
        "predictions = probability_model.predict(test_dataset_np)"
      ],
      "execution_count": 0,
      "outputs": []
    },
    {
      "cell_type": "markdown",
      "metadata": {
        "id": "2tRHK9I8kiwQ",
        "colab_type": "text"
      },
      "source": [
        "### 显示对第一个样本的预测"
      ]
    },
    {
      "cell_type": "code",
      "metadata": {
        "id": "McniNfzPs2CK",
        "colab_type": "code",
        "outputId": "20bf7d3c-a897-4c78-8fc0-26b3994ccb1d",
        "colab": {
          "base_uri": "https://localhost:8080/",
          "height": 50
        }
      },
      "source": [
        "print(predictions[0],np.argmax(predictions[0]),test_labels_np[0])"
      ],
      "execution_count": 0,
      "outputs": [
        {
          "output_type": "stream",
          "text": [
            "[2.1710143e-08 4.4195181e-12 9.4819619e-09 1.5004627e-04 4.5902562e-15\n",
            " 1.6425272e-10 7.1689252e-15 9.9984980e-01 1.0018879e-09 1.1824731e-07] 7 7\n"
          ],
          "name": "stdout"
        }
      ]
    },
    {
      "cell_type": "markdown",
      "metadata": {
        "id": "7qGFXNwhlGBE",
        "colab_type": "text"
      },
      "source": [
        "### 定义函数形象化预测"
      ]
    },
    {
      "cell_type": "code",
      "metadata": {
        "id": "P4BUj22cl8aO",
        "colab_type": "code",
        "colab": {}
      },
      "source": [
        "def plot_image(i, predictions_array, true_label, img):\n",
        "  predictions_array, true_label, img = predictions_array, true_label[i], img[i]\n",
        "  plt.grid(False)\n",
        "  plt.xticks([])\n",
        "  plt.yticks([])\n",
        "\n",
        "  plt.imshow(img, cmap=plt.cm.binary)\n",
        "\n",
        "  predicted_label = np.argmax(predictions_array)\n",
        "  if predicted_label == true_label:\n",
        "    color = 'blue'\n",
        "  else:\n",
        "    color = 'red'\n",
        "\n",
        "  plt.xlabel(\"{} {:2.0f}% ({})\".format( predicted_label,\n",
        "                      100*np.max(predictions_array),\n",
        "                      true_label),\n",
        "                      color=color)\n",
        "\n",
        "def plot_value_array(i, predictions_array, true_label):\n",
        "  predictions_array, true_label = predictions_array, true_label[i]\n",
        "  plt.grid(False)\n",
        "  plt.xticks(range(10))\n",
        "  plt.yticks([])\n",
        "  thisplot = plt.bar(range(10), predictions_array, color=\"#777777\")\n",
        "  plt.ylim([0, 1])\n",
        "  predicted_label = np.argmax(predictions_array)\n",
        "\n",
        "  thisplot[predicted_label].set_color('red')\n",
        "  thisplot[true_label].set_color('blue')"
      ],
      "execution_count": 0,
      "outputs": []
    },
    {
      "cell_type": "markdown",
      "metadata": {
        "colab_type": "text",
        "id": "VSBNJ56SmGrZ"
      },
      "source": [
        "### 展现预测情况"
      ]
    },
    {
      "cell_type": "code",
      "metadata": {
        "id": "MrISTl6dmBbJ",
        "colab_type": "code",
        "outputId": "c9819fcf-fc1c-489e-977e-a5d409e21f41",
        "colab": {
          "base_uri": "https://localhost:8080/",
          "height": 749
        }
      },
      "source": [
        "# Plot the first X test images, their predicted labels, and the true labels.\n",
        "# Color correct predictions in blue and incorrect predictions in red.\n",
        "num_rows = 5\n",
        "num_cols = 4\n",
        "num_images = num_rows*num_cols\n",
        "plt.figure(figsize=(2*2*num_cols, 2*num_rows))\n",
        "for i in range(num_images):\n",
        "  plt.subplot(num_rows, 2*num_cols, 2*i+1)\n",
        "  plot_image(i, predictions[i], test_labels_np, test_dataset_np)\n",
        "  plt.subplot(num_rows, 2*num_cols, 2*i+2)\n",
        "  plot_value_array(i, predictions[i], test_labels_np)\n",
        "plt.tight_layout()\n",
        "plt.show()"
      ],
      "execution_count": 0,
      "outputs": [
        {
          "output_type": "display_data",
          "data": {
            "image/png": "[encoded data removed]",
            "text/plain": [
              "<Figure size 1152x720 with 40 Axes>"
            ]
          },
          "metadata": {
            "tags": []
          }
        }
      ]
    }
  ]
}
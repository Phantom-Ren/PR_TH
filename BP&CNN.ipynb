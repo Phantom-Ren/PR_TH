{
  "nbformat": 4,
  "nbformat_minor": 0,
  "metadata": {
    "colab": {
      "name": "BP&CNN",
      "provenance": [],
      "collapsed_sections": [],
      "mount_file_id": "1dwVKQCj3vwUiExERhKSm23yUjSkUtm7B",
      "authorship_tag": "ABX9TyMEmGbCUn5Fc7g/5ifSKcNy",
      "include_colab_link": true
    },
    "kernelspec": {
      "name": "python3",
      "display_name": "Python 3"
    }
  },
  "cells": [
    {
      "cell_type": "markdown",
      "metadata": {
        "id": "view-in-github",
        "colab_type": "text"
      },
      "source": [
        "<a href=\"https://colab.research.google.com/github/Phantom-Ren/PR_TH/blob/master/BP%26CNN.ipynb\" target=\"_parent\"><img src=\"https://colab.research.google.com/assets/colab-badge.svg\" alt=\"Open In Colab\"/></a>"
      ]
    },
    {
      "cell_type": "markdown",
      "metadata": {
        "id": "Qh1LipO-Rfnr",
        "colab_type": "text"
      },
      "source": [
        "<center>\n",
        "\n",
        "# 模式识别·第八次作业·BP&CNN\n",
        "\n",
        "#### 纪泽西 17375338\n",
        "\n",
        "#### Last Modified:10th,May,2020\n",
        "\n",
        "</center>\n",
        "\n",
        "<table align=\"center\">\n",
        "  <td align=\"center\"><a target=\"_blank\" href=\"https://colab.research.google.com/github/Phantom-Ren/PR_TH/blob/master/BP&CNN.ipynb\"> \n",
        "        <img src=\"http://introtodeeplearning.com/images/colab/colab.png?v2.0\"  style=\"padding-bottom:5px;\" /><br>Run in Google Colab</a></td>\n",
        "</table>\n"
      ]
    },
    {
      "cell_type": "markdown",
      "metadata": {
        "id": "c2Uxa_o7h6Gu",
        "colab_type": "text"
      },
      "source": [
        "## Part1: 导入库文件及数据集\n",
        "\n",
        "#### 如需在其他环境运行需改变数据集所在路径"
      ]
    },
    {
      "cell_type": "code",
      "metadata": {
        "id": "qoesIwOVReii",
        "colab_type": "code",
        "outputId": "9a538cf5-9ca2-4b76-c0ef-34abc4eb2d4f",
        "colab": {
          "base_uri": "https://localhost:8080/",
          "height": 34
        }
      },
      "source": [
        "%tensorflow_version 2.x\n",
        "import tensorflow as tf\n",
        "import sklearn\n",
        "from tensorflow.keras.layers import Conv2D,MaxPooling2D,Flatten,Dense\n",
        "from tensorflow.keras.utils import plot_model\n",
        "from sklearn.metrics import accuracy_score\n",
        "from sklearn.model_selection import cross_val_score\n",
        "\n",
        "\n",
        "import glob\n",
        "import numpy as np\n",
        "import matplotlib.pyplot as plt\n",
        "import seaborn as sns\n",
        "sns.set()\n",
        "from time import *\n",
        "\n",
        "import os\n",
        "import scipy.io as sio\n",
        "\n",
        "%cd /content/drive/My Drive/Pattern Recognition/Dataset/cell_dataset"
      ],
      "execution_count": 31,
      "outputs": [
        {
          "output_type": "stream",
          "text": [
            "/content/drive/My Drive/Pattern Recognition/Dataset/cell_dataset\n"
          ],
          "name": "stdout"
        }
      ]
    },
    {
      "cell_type": "code",
      "metadata": {
        "id": "OaiNnnMV5lxq",
        "colab_type": "code",
        "colab": {}
      },
      "source": [
        "x_train = np.load(\"x_train.npy\")\n",
        "y_train = np.load(\"y_train.npy\")\n",
        "x_test = np.load(\"x_test.npy\")\n",
        "y_test = np.load(\"y_test.npy\")\n",
        "x_train = x_train/255.0\n",
        "x_test = x_test/255.0"
      ],
      "execution_count": 0,
      "outputs": []
    },
    {
      "cell_type": "code",
      "metadata": {
        "id": "ymxT80_K69VK",
        "colab_type": "code",
        "outputId": "0f1e5a5c-658e-4def-d255-5b1ac3e2bc3f",
        "colab": {
          "base_uri": "https://localhost:8080/",
          "height": 67
        }
      },
      "source": [
        "print(x_train.shape,x_test.shape)\n",
        "print(np.unique(y_test))\n",
        "print(np.bincount(y_test.astype(int)))"
      ],
      "execution_count": 44,
      "outputs": [
        {
          "output_type": "stream",
          "text": [
            "(14536, 51, 51) (6229, 51, 51)\n",
            "[0. 1. 2.]\n",
            "[ 683 2439 3107]\n"
          ],
          "name": "stdout"
        }
      ]
    },
    {
      "cell_type": "markdown",
      "metadata": {
        "id": "o3kA6PCpiW3t",
        "colab_type": "text"
      },
      "source": [
        "## Part2:数据预处理"
      ]
    },
    {
      "cell_type": "markdown",
      "metadata": {
        "id": "5qNUWuFSYfxW",
        "colab_type": "text"
      },
      "source": [
        "#### 可视化展现数据集特征"
      ]
    },
    {
      "cell_type": "code",
      "metadata": {
        "id": "EAOBYjBVakC9",
        "colab_type": "code",
        "outputId": "73f7f96f-c67a-4ee9-b514-aaf24919045b",
        "colab": {
          "base_uri": "https://localhost:8080/",
          "height": 427
        }
      },
      "source": [
        "for i in range(10,12):\n",
        "  plt.subplot(1,2,1)\n",
        "  plt.imshow(x_test[i,:,:])\n",
        "  plt.xlabel(y_test[i])\n",
        "  plt.subplot(1,2,2)\n",
        "  plt.imshow(x_train[i,:,:])\n",
        "  plt.xlabel(y_train[i])\n",
        "  plt.show()"
      ],
      "execution_count": 46,
      "outputs": [
        {
          "output_type": "display_data",
          "data": {
            "image/png": "[encoded data removed]",
            "text/plain": [
              "<Figure size 432x288 with 2 Axes>"
            ]
          },
          "metadata": {
            "tags": []
          }
        },
        {
          "output_type": "display_data",
          "data": {
            "image/png": "[encoded data removed]",
            "text/plain": [
              "<Figure size 432x288 with 2 Axes>"
            ]
          },
          "metadata": {
            "tags": []
          }
        }
      ]
    },
    {
      "cell_type": "markdown",
      "metadata": {
        "id": "FuNXbVy7jZd-",
        "colab_type": "text"
      },
      "source": [
        "## Part3:模型建立\n"
      ]
    },
    {
      "cell_type": "markdown",
      "metadata": {
        "id": "ALBYnmOukCar",
        "colab_type": "text"
      },
      "source": [
        "### 1.CNN\n",
        "使用Lenet-5 框架 ，之后在 RESNET50V2 , DENSENET121 上进行实验。"
      ]
    },
    {
      "cell_type": "code",
      "metadata": {
        "id": "Awasm-IKF8dj",
        "colab_type": "code",
        "outputId": "6057cb32-1981-4d9f-ac0d-ff43280f65ae",
        "colab": {
          "base_uri": "https://localhost:8080/",
          "height": 420
        }
      },
      "source": [
        "model0 = tf.keras.Sequential()\n",
        "\n",
        "model0.add(Conv2D(6, kernel_size=(5, 5), activation='relu', input_shape=(51,51,1)))\n",
        "model0.add(MaxPooling2D(pool_size=(2, 2)))\n",
        "model0.add(Conv2D(16, kernel_size=(5, 5), activation='relu'))\n",
        "model0.add(MaxPooling2D(pool_size=(2, 2)))\n",
        "model0.add(Flatten())\n",
        "model0.add(Dense(120, activation='relu'))\n",
        "model0.add(Dense(84, activation='relu'))\n",
        "model0.add(Dense(3, activation='softmax'))\n",
        "\n",
        "model0.summary()"
      ],
      "execution_count": 47,
      "outputs": [
        {
          "output_type": "stream",
          "text": [
            "Model: \"sequential_3\"\n",
            "_________________________________________________________________\n",
            "Layer (type)                 Output Shape              Param #   \n",
            "=================================================================\n",
            "conv2d_6 (Conv2D)            (None, 47, 47, 6)         156       \n",
            "_________________________________________________________________\n",
            "max_pooling2d_6 (MaxPooling2 (None, 23, 23, 6)         0         \n",
            "_________________________________________________________________\n",
            "conv2d_7 (Conv2D)            (None, 19, 19, 16)        2416      \n",
            "_________________________________________________________________\n",
            "max_pooling2d_7 (MaxPooling2 (None, 9, 9, 16)          0         \n",
            "_________________________________________________________________\n",
            "flatten_3 (Flatten)          (None, 1296)              0         \n",
            "_________________________________________________________________\n",
            "dense_9 (Dense)              (None, 120)               155640    \n",
            "_________________________________________________________________\n",
            "dense_10 (Dense)             (None, 84)                10164     \n",
            "_________________________________________________________________\n",
            "dense_11 (Dense)             (None, 3)                 255       \n",
            "=================================================================\n",
            "Total params: 168,631\n",
            "Trainable params: 168,631\n",
            "Non-trainable params: 0\n",
            "_________________________________________________________________\n"
          ],
          "name": "stdout"
        }
      ]
    },
    {
      "cell_type": "code",
      "metadata": {
        "id": "wn1jXG0jkuXC",
        "colab_type": "code",
        "colab": {}
      },
      "source": [
        "plot_model(model0,show_shapes=True, show_layer_names=False)"
      ],
      "execution_count": 0,
      "outputs": []
    },
    {
      "cell_type": "code",
      "metadata": {
        "id": "KcY2dg_ImRPN",
        "colab_type": "code",
        "colab": {}
      },
      "source": [
        "model0.compile(loss=tf.keras.metrics.categorical_crossentropy, optimizer=tf.keras.optimizers.Adam(), metrics=['accuracy'])"
      ],
      "execution_count": 0,
      "outputs": []
    },
    {
      "cell_type": "code",
      "metadata": {
        "id": "2KscLHIBnWKU",
        "colab_type": "code",
        "colab": {
          "base_uri": "https://localhost:8080/",
          "height": 50
        },
        "outputId": "d5af10c7-b413-4c1e-b679-1d34257fb2b5"
      },
      "source": [
        "x_train1 = x_train.reshape(x_train.shape[0], 51, 51, 1)\n",
        "x_test1 = x_test.reshape(x_test.shape[0], 51, 51, 1)\n",
        "y_train1=tf.keras.utils.to_categorical(y_train)\n",
        "y_test1=tf.keras.utils.to_categorical(y_test)\n",
        "print(x_train1.shape,x_test1.shape)\n",
        "print(y_train1.shape,y_test1.shape)"
      ],
      "execution_count": 49,
      "outputs": [
        {
          "output_type": "stream",
          "text": [
            "(14536, 51, 51, 1) (6229, 51, 51, 1)\n",
            "(14536, 3) (6229, 3)\n"
          ],
          "name": "stdout"
        }
      ]
    },
    {
      "cell_type": "code",
      "metadata": {
        "id": "yl2B3kNRmxh7",
        "colab_type": "code",
        "colab": {
          "base_uri": "https://localhost:8080/",
          "height": 370
        },
        "outputId": "330f8b41-89e6-4f69-feed-dda725feef4e"
      },
      "source": [
        "model0.fit(x_train1,y_train1,batch_size=128,epochs=10,verbose=1,validation_data=(x_test1,y_test1))"
      ],
      "execution_count": 52,
      "outputs": [
        {
          "output_type": "stream",
          "text": [
            "Epoch 1/10\n",
            "114/114 [==============================] - 22s 189ms/step - loss: 0.5909 - accuracy: 0.7192 - val_loss: 0.5868 - val_accuracy: 0.7287\n",
            "Epoch 2/10\n",
            "114/114 [==============================] - 21s 188ms/step - loss: 0.5800 - accuracy: 0.7265 - val_loss: 0.5893 - val_accuracy: 0.7203\n",
            "Epoch 3/10\n",
            "114/114 [==============================] - 21s 189ms/step - loss: 0.5822 - accuracy: 0.7229 - val_loss: 0.5969 - val_accuracy: 0.7226\n",
            "Epoch 4/10\n",
            "114/114 [==============================] - 22s 190ms/step - loss: 0.5813 - accuracy: 0.7250 - val_loss: 0.5872 - val_accuracy: 0.7245\n",
            "Epoch 5/10\n",
            "114/114 [==============================] - 22s 189ms/step - loss: 0.5713 - accuracy: 0.7292 - val_loss: 0.6806 - val_accuracy: 0.6786\n",
            "Epoch 6/10\n",
            "114/114 [==============================] - 22s 189ms/step - loss: 0.5784 - accuracy: 0.7255 - val_loss: 0.5841 - val_accuracy: 0.7268\n",
            "Epoch 7/10\n",
            "114/114 [==============================] - 22s 189ms/step - loss: 0.5615 - accuracy: 0.7336 - val_loss: 0.5747 - val_accuracy: 0.7375\n",
            "Epoch 8/10\n",
            "114/114 [==============================] - 22s 189ms/step - loss: 0.5556 - accuracy: 0.7388 - val_loss: 0.5758 - val_accuracy: 0.7382\n",
            "Epoch 9/10\n",
            "114/114 [==============================] - 22s 190ms/step - loss: 0.5556 - accuracy: 0.7364 - val_loss: 0.5899 - val_accuracy: 0.7284\n",
            "Epoch 10/10\n",
            "114/114 [==============================] - 22s 190ms/step - loss: 0.5549 - accuracy: 0.7402 - val_loss: 0.6356 - val_accuracy: 0.7041\n"
          ],
          "name": "stdout"
        },
        {
          "output_type": "execute_result",
          "data": {
            "text/plain": [
              "<tensorflow.python.keras.callbacks.History at 0x7f3ed0fdc6a0>"
            ]
          },
          "metadata": {
            "tags": []
          },
          "execution_count": 52
        }
      ]
    },
    {
      "cell_type": "markdown",
      "metadata": {
        "id": "N_uxmOIYxRcq",
        "colab_type": "text"
      },
      "source": [
        "### BP神经网络\n",
        "利用Dense构建"
      ]
    },
    {
      "cell_type": "code",
      "metadata": {
        "id": "vGZsJfoxlC6S",
        "colab_type": "code",
        "outputId": "03f149cd-e887-4b47-bf96-04c83b48d1c3",
        "colab": {
          "base_uri": "https://localhost:8080/",
          "height": 252
        }
      },
      "source": [
        "model1 = tf.keras.Sequential([\n",
        "    tf.keras.layers.Flatten(input_shape=(51, 51)),\n",
        "    tf.keras.layers.Dense(64, activation='relu'),\n",
        "    tf.keras.layers.Dense(3)\n",
        "])\n",
        "model1.summary()"
      ],
      "execution_count": 54,
      "outputs": [
        {
          "output_type": "stream",
          "text": [
            "Model: \"sequential_4\"\n",
            "_________________________________________________________________\n",
            "Layer (type)                 Output Shape              Param #   \n",
            "=================================================================\n",
            "flatten_4 (Flatten)          (None, 2601)              0         \n",
            "_________________________________________________________________\n",
            "dense_12 (Dense)             (None, 64)                166528    \n",
            "_________________________________________________________________\n",
            "dense_13 (Dense)             (None, 3)                 195       \n",
            "=================================================================\n",
            "Total params: 166,723\n",
            "Trainable params: 166,723\n",
            "Non-trainable params: 0\n",
            "_________________________________________________________________\n"
          ],
          "name": "stdout"
        }
      ]
    },
    {
      "cell_type": "code",
      "metadata": {
        "id": "GOk4XoRaxjFq",
        "colab_type": "code",
        "colab": {
          "base_uri": "https://localhost:8080/",
          "height": 370
        },
        "outputId": "ba71f3bd-e475-40a2-9c37-3d3dccb3fa54"
      },
      "source": [
        "model1.compile(optimizer='adam',\n",
        "              loss=tf.keras.losses.SparseCategoricalCrossentropy(from_logits=True),\n",
        "              metrics=['accuracy'])\n",
        "model1.fit(x_train, y_train,batch_size=128,epochs=10,verbose=1,validation_data=(x_test,y_test))"
      ],
      "execution_count": 55,
      "outputs": [
        {
          "output_type": "stream",
          "text": [
            "Epoch 1/10\n",
            "114/114 [==============================] - 1s 6ms/step - loss: 0.7132 - accuracy: 0.6554 - val_loss: 0.6983 - val_accuracy: 0.6627\n",
            "Epoch 2/10\n",
            "114/114 [==============================] - 1s 5ms/step - loss: 0.6855 - accuracy: 0.6715 - val_loss: 0.6843 - val_accuracy: 0.6744\n",
            "Epoch 3/10\n",
            "114/114 [==============================] - 1s 5ms/step - loss: 0.6816 - accuracy: 0.6761 - val_loss: 0.6895 - val_accuracy: 0.6738\n",
            "Epoch 4/10\n",
            "114/114 [==============================] - 1s 5ms/step - loss: 0.6765 - accuracy: 0.6763 - val_loss: 0.6782 - val_accuracy: 0.6812\n",
            "Epoch 5/10\n",
            "114/114 [==============================] - 1s 5ms/step - loss: 0.6705 - accuracy: 0.6810 - val_loss: 0.6776 - val_accuracy: 0.6797\n",
            "Epoch 6/10\n",
            "114/114 [==============================] - 1s 5ms/step - loss: 0.6653 - accuracy: 0.6838 - val_loss: 0.6826 - val_accuracy: 0.6770\n",
            "Epoch 7/10\n",
            "114/114 [==============================] - 1s 5ms/step - loss: 0.6613 - accuracy: 0.6853 - val_loss: 0.6773 - val_accuracy: 0.6874\n",
            "Epoch 8/10\n",
            "114/114 [==============================] - 1s 5ms/step - loss: 0.6554 - accuracy: 0.6879 - val_loss: 0.6756 - val_accuracy: 0.6828\n",
            "Epoch 9/10\n",
            "114/114 [==============================] - 1s 5ms/step - loss: 0.6507 - accuracy: 0.6922 - val_loss: 0.6677 - val_accuracy: 0.6918\n",
            "Epoch 10/10\n",
            "114/114 [==============================] - 1s 5ms/step - loss: 0.6469 - accuracy: 0.6968 - val_loss: 0.6688 - val_accuracy: 0.6902\n"
          ],
          "name": "stdout"
        },
        {
          "output_type": "execute_result",
          "data": {
            "text/plain": [
              "<tensorflow.python.keras.callbacks.History at 0x7f3ed10a9f98>"
            ]
          },
          "metadata": {
            "tags": []
          },
          "execution_count": 55
        }
      ]
    },
    {
      "cell_type": "markdown",
      "metadata": {
        "id": "gpC5ElYw6pBS",
        "colab_type": "text"
      },
      "source": [
        "### 总结\n",
        "通过上述两个实验，获得CNN准确率74%，BP网络准确率70%。学会了CNN/BP神经网络基本架构，将在后续实验中继续实践 RESNET50V2 , DENSENET121 等多种先进CNN网络架构，并尝试使用数据增强方法提高精度。"
      ]
    }
  ]
}